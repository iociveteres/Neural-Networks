{
 "cells": [
  {
   "cell_type": "code",
   "execution_count": 1,
   "metadata": {},
   "outputs": [],
   "source": [
    "import numpy as np\n",
    "import pandas as pd\n",
    "from pathlib import Path\n",
    "import shutil"
   ]
  },
  {
   "cell_type": "code",
   "execution_count": 3,
   "metadata": {},
   "outputs": [],
   "source": [
    "from PIL import Image, ImageChops\n",
    "\n",
    "def is_greyscale(im):\n",
    "    \"\"\"\n",
    "    Check if image is monochrome (1 channel or 3 identical channels)\n",
    "    \"\"\"\n",
    "    if im.mode not in (\"L\", \"RGB\"):\n",
    "        raise ValueError(\"Unsuported image mode\")\n",
    "\n",
    "    if im.mode == \"RGB\":\n",
    "        rgb = im.split()\n",
    "        if ImageChops.difference(rgb[0],rgb[1]).getextrema()[1]!=0: \n",
    "            return False\n",
    "        if ImageChops.difference(rgb[0],rgb[2]).getextrema()[1]!=0: \n",
    "            return False\n",
    "    return True"
   ]
  },
  {
   "cell_type": "code",
   "execution_count": 5,
   "metadata": {},
   "outputs": [
    {
     "name": "stdout",
     "output_type": "stream",
     "text": [
      "dataset\\00266.jpg\n",
      "dataset\\01085.jpg\n",
      "dataset\\02176.jpg\n",
      "dataset\\03048.jpg\n",
      "dataset\\03439.jpg\n",
      "dataset\\03469.jpg\n",
      "dataset\\03539.jpg\n",
      "dataset\\04577.jpg\n",
      "dataset\\04848.jpg\n",
      "dataset\\05177.jpg\n",
      "dataset\\05502.jpg\n",
      "dataset\\05713.jpg\n",
      "dataset\\06947.jpg\n"
     ]
    }
   ],
   "source": [
    "import os\n",
    "directory = 'dataset'\n",
    " \n",
    "for filename in os.listdir(directory):\n",
    "    f = os.path.join(directory, filename)\n",
    "    if os.path.isfile(f):\n",
    "        im = Image.open(f)\n",
    "        if is_greyscale(im):\n",
    "            im.close()\n",
    "            print(f)\n",
    "            os.remove(f)\n"
   ]
  },
  {
   "cell_type": "code",
   "execution_count": 6,
   "metadata": {},
   "outputs": [
    {
     "data": {
      "text/html": [
       "<div>\n",
       "<style scoped>\n",
       "    .dataframe tbody tr th:only-of-type {\n",
       "        vertical-align: middle;\n",
       "    }\n",
       "\n",
       "    .dataframe tbody tr th {\n",
       "        vertical-align: top;\n",
       "    }\n",
       "\n",
       "    .dataframe thead th {\n",
       "        text-align: right;\n",
       "    }\n",
       "</style>\n",
       "<table border=\"1\" class=\"dataframe\">\n",
       "  <thead>\n",
       "    <tr style=\"text-align: right;\">\n",
       "      <th></th>\n",
       "      <th>image</th>\n",
       "      <th>Class</th>\n",
       "    </tr>\n",
       "  </thead>\n",
       "  <tbody>\n",
       "    <tr>\n",
       "      <th>0</th>\n",
       "      <td>00001.jpg</td>\n",
       "      <td>14</td>\n",
       "    </tr>\n",
       "  </tbody>\n",
       "</table>\n",
       "</div>"
      ],
      "text/plain": [
       "       image  Class\n",
       "0  00001.jpg     14"
      ]
     },
     "execution_count": 6,
     "metadata": {},
     "output_type": "execute_result"
    }
   ],
   "source": [
    "df = pd.read_csv('train.csv').reset_index(drop=True)\n",
    "df.head(1)"
   ]
  },
  {
   "cell_type": "code",
   "execution_count": 10,
   "metadata": {},
   "outputs": [],
   "source": [
    "def func(file_name, class_name):\n",
    "    if os.path.exists(\"./dataset/\" + file_name):\n",
    "        Path('./dataset_by_classes/' + str(class_name)).mkdir(parents=True, exist_ok=True)\n",
    "        shutil.copy2('./dataset/' + file_name, './dataset_by_classes/' + str(class_name) + '/' + file_name)\n",
    "    "
   ]
  },
  {
   "cell_type": "code",
   "execution_count": 12,
   "metadata": {},
   "outputs": [
    {
     "data": {
      "text/plain": [
       "0       None\n",
       "1       None\n",
       "2       None\n",
       "3       None\n",
       "4       None\n",
       "        ... \n",
       "6995    None\n",
       "6996    None\n",
       "6997    None\n",
       "6998    None\n",
       "6999    None\n",
       "Length: 7000, dtype: object"
      ]
     },
     "execution_count": 12,
     "metadata": {},
     "output_type": "execute_result"
    }
   ],
   "source": [
    "df.apply(lambda row: func(row['image'], row['Class']), axis = 1)"
   ]
  }
 ],
 "metadata": {
  "kernelspec": {
   "display_name": "base",
   "language": "python",
   "name": "python3"
  },
  "language_info": {
   "codemirror_mode": {
    "name": "ipython",
    "version": 3
   },
   "file_extension": ".py",
   "mimetype": "text/x-python",
   "name": "python",
   "nbconvert_exporter": "python",
   "pygments_lexer": "ipython3",
   "version": "3.9.12"
  },
  "orig_nbformat": 4
 },
 "nbformat": 4,
 "nbformat_minor": 2
}
