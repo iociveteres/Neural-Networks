{
  "cells": [
    {
      "cell_type": "markdown",
      "source": [
        "# Практика 2.\n"
      ],
      "metadata": {
        "id": "Yq_atpVhZNYH"
      },
      "id": "Yq_atpVhZNYH"
    },
    {
      "cell_type": "markdown",
      "source": [
        "## CNN\n",
        "\n",
        "Сonvolutional neural network (CNN, ConvNet), или Сверточная нейронная сеть — класс глубоких нейронных сетей, часто применяемый в анализе визуальных образов. Сверточные нейронные сети являются разновидностью многослойного перспептрона с использованием операций свёртки. Они нашли применение в распознавании изображений и видео, рекомендательных системах, классификации изображений, NLP (natural language processing) и анализе временных рядов.\n",
        "\n",
        "Сверточные нейронные сети обеспечивают частичную устойчивость к изменениям масштаба, смещениям, поворотам, смене ракурса и прочим искажениям. Сверточные нейронные сети объединяют три архитектурных идеи, для обеспечения инвариантности к изменению масштаба, повороту сдвигу и пространственным искажениям:\n",
        "\n",
        "- локальные рецепторные поля (обеспечивают локальную двумерную связность нейронов);\n",
        "- общие синаптические коэффициенты (обеспечивают детектирование некоторых черт в любом месте изображения и уменьшают общее число весовых коэффициентов);\n",
        "- иерархическая организация с пространственными подвыборками."
      ],
      "metadata": {
        "id": "nsa_w-0KZQ6N"
      },
      "id": "nsa_w-0KZQ6N"
    },
    {
      "cell_type": "markdown",
      "source": [
        "#Принцип работы операции свертки\n",
        "\n",
        "Операцию свёртки можно представить следующим алгоритмом:\n",
        "\n",
        "Скользящее окно, называемое фильтром, с размером (n,n) двигается по входному признаку. Количество движений определяется заданным количеством фильтров.\n",
        "Каждый полученный шаблон имеет форму (n,n,d), где d — глубина входного признака.\n",
        "Каждый шаблон умножается на своё ядро свёртки, в результате, формируется выходная карта признаков. Полученная выходная карта признаков имеет форму (`h`,`w`,`N`), где `h` и `w` — длина и ширина, полученные в результате отсечения, а `N` — количество фильтров.\n",
        "Количество фильтров — гиперпараметр, поэтому выбирается самостоятельно. Обычно его подбирают как степень двойки с увеличением количества фильтров по мере увеличения глубины архитектуры. А ядра свёртки являются обучаемыми параметрами.\n",
        "\n",
        "![Принцип действия операция свёртки](https://python-school.ru/wp-content/uploads/2020/11/2020-11-04_17-03-1.png)"
      ],
      "metadata": {
        "id": "3VNE-F1fZmb_"
      },
      "id": "3VNE-F1fZmb_"
    },
    {
      "cell_type": "markdown",
      "source": [
        "Слой свёртки (англ. convolutional layer) — это основной блок свёрточной нейронной сети. Слой свёртки включает в себя для каждого канала свой фильтр, ядро свёртки которого обрабатывает предыдущий слой по фрагментам (суммируя результаты поэлементного произведения для каждого фрагмента). Весовые коэффициенты ядра свёртки (небольшой матрицы) неизвестны и устанавливаются в процессе обучения.\n",
        "\n",
        "Особенностью свёрточного слоя является сравнительно небольшое количество параметров, устанавливаемое при обучении. Так например, если исходное изображение имеет размерность 100×100 пикселей по трём каналам (это значит 30 000 входных нейронов), а свёрточный слой использует фильтры c ядром 3×3 пикселя с выходом на 6 каналов, тогда в процессе обучения определяется только 9 весов ядра, однако по всем сочетаниям каналов, то есть 9×3×6=162, в таком случае данный слой требует нахождения только 162 параметров, что существенно меньше количества искомых параметров полносвязной нейронной сети."
      ],
      "metadata": {
        "id": "UUjhzTyFaeKh"
      },
      "id": "UUjhzTyFaeKh"
    },
    {
      "cell_type": "markdown",
      "source": [
        "Рассмотрим процесс свёртки на примере изображения в оттенках серого с размером (28,28). Глубина изображения в оттенках серого равна 1, если бы это было RGB, то глубина входа равнялась бы 3. Пусть размер фильтра равняется (3,3), а всего их 32.\n",
        "1. На первом этапе сформируются 32 шаблона размером (3,3,1), где 1 — глубина изображения.\n",
        "2. Полученные шаблоны умножаются на ядра свертки. Каждый преобразованный в результате умножения шаблон формирует вектор с длиной равной количеству фильтров, т.е. 32.\n",
        "3. Все преобразованные шаблоны объединяются в выходную карту признаков. Она имеет размер (26,26,32)"
      ],
      "metadata": {
        "id": "4VOuQxGAZ8jL"
      },
      "id": "4VOuQxGAZ8jL"
    },
    {
      "cell_type": "markdown",
      "source": [
        "![Текст ссылки](https://habrastorage.org/webt/o0/zh/rz/o0zhrzr_ml2tgsfmvl-mcrxjmbq.gif)"
      ],
      "metadata": {
        "id": "Dc8nP_P7ey7y"
      },
      "id": "Dc8nP_P7ey7y"
    },
    {
      "cell_type": "markdown",
      "source": [
        "# Слой пулинга\n",
        "Слой пулинга (иначе подвыборки, субдискретизации) представляет собой нелинейное уплотнение карты признаков, при этом группа пикселей (обычно размера 2×2) уплотняется до одного пикселя, проходя нелинейное преобразование. Наиболее употребительна при этом функция максимума. Преобразования затрагивают непересекающиеся прямоугольники или квадраты, каждый из которых ужимается в один пиксель, при этом выбирается пиксель, имеющий максимальное значение. \n",
        "Пулинговый слой призван снижать размерность изображения. Исходное изображение делится на блоки размером `w × h` и для каждого блока вычисляется некоторая функция. Чаще всего используется функция максимума (англ. max pooling) или (взвешенного) среднего (англ. (weighted) average pooling). Обучаемых параметров у этого слоя нет.\n",
        "Пулинг интерпретируется так: если на предыдущей операции свёртки уже были выявлены некоторые признаки, то для дальнейшей обработки настолько подробное изображение уже не нужно, и оно уплотняется до менее подробного. К тому же фильтрация уже ненужных деталей помогает не переобучаться. Слой пулинга, как правило, вставляется после слоя свёртки перед слоем следующей свёртки.\n",
        "\n",
        "Кроме пулинга с функцией максимума можно использовать и другие функции — например, среднего значения или L2-нормирования. Однако практика показала преимущества именно пулинга с функцией максимума, который включается в типовые системы.\n",
        "\n",
        "\n",
        "Основные цели пулингового слоя:\n",
        "- уменьшение изображения, чтобы последующие свертки оперировали над большей областью исходного изображения;\n",
        "- увеличение инвариантности выхода сети по отношению к малому переносу входа;\n",
        "- ускорение вычислений."
      ],
      "metadata": {
        "id": "dSpyZxGXaGhA"
      },
      "id": "dSpyZxGXaGhA"
    },
    {
      "cell_type": "markdown",
      "source": [
        "# Выбор функции активации\n",
        "\n",
        "Одним из этапов разработки нейронной сети является выбор функции активации нейронов. Вид функции активации во многом определяет функциональные возможности нейронной сети и метод обучения этой сети. Классический алгоритм обратного распространения ошибки хорошо работает на двухслойных и трехслойных нейронных сетях, но при дальнейшем увеличении глубины начинает испытывать проблемы. Одна из причин — так называемое затухание градиентов. По мере распространения ошибки от выходного слоя к входному на каждом слое происходит домножение текущего результата на производную функции активации. Производная у традиционной сигмоидной функции активации меньше единицы на всей области определения, поэтому после нескольких слоев ошибка станет близкой к нулю. Если же, наоборот, функция активации имеет неограниченную производную (как, например, гиперболический тангенс), то может произойти взрывное увеличение ошибки по мере распространения, что приведет к неустойчивости процедуры обучения."
      ],
      "metadata": {
        "id": "Tk7JqGQ4e5RM"
      },
      "id": "Tk7JqGQ4e5RM"
    },
    {
      "cell_type": "markdown",
      "source": [
        "![Текст ссылки](https://habrastorage.org/webt/ux/rx/mt/uxrxmtrbzdniqbytle0ps2_jhbs.png)"
      ],
      "metadata": {
        "id": "c2NwiEARfEBz"
      },
      "id": "c2NwiEARfEBz"
    },
    {
      "cell_type": "markdown",
      "source": [
        "![Текст ссылки](https://habrastorage.org/webt/vy/id/p9/vyidp9qwfzsnwrx7pysfaw7nvig.png)"
      ],
      "metadata": {
        "id": "WG1S_4G8bC5i"
      },
      "id": "WG1S_4G8bC5i"
    },
    {
      "cell_type": "markdown",
      "source": [
        "# Dropout\n",
        "Для улучшения работы сети, повышения её устойчивости и предотвращения переобучения применяется также исключение（дропаут）— метод тренировки подсети с выбрасыванием случайных одиночных нейронов.\n",
        "\n",
        "Исключение или дропаут (от англ. dropout) — метод регуляризации искусственных нейронных сетей, предназначен для уменьшения переобучения сети за счет предотвращения сложных коадаптаций отдельных нейронов на тренировочных данных во время обучения.\n",
        "Термин «dropout» (выбивание, выбрасывание) характеризует исключение определённого процента (например 30%) случайных нейронов (находящихся как в скрытых, так и видимых слоях) на разных итерациях (эпохах) во время обучения нейронной сети. Это очень эффективный способ усреднения моделей внутри нейронной сети. В результате более обученные нейроны получают в сети больший вес. Такой приём значительно увеличивает скорость обучения, качество обучения на тренировочных данных, а также повышает качество предсказаний модели на новых тестовых данных."
      ],
      "metadata": {
        "id": "yBXbwk0Idw_q"
      },
      "id": "yBXbwk0Idw_q"
    },
    {
      "cell_type": "markdown",
      "source": [
        "# Примерная топология сверточной нейросети\n",
        "![Текст ссылки](https://habrastorage.org/webt/tf/pb/9m/tfpb9mda5whbxqxauct4_dhnkqw.png)"
      ],
      "metadata": {
        "id": "mfs1ZlGSeefi"
      },
      "id": "mfs1ZlGSeefi"
    },
    {
      "cell_type": "markdown",
      "source": [
        "# Пример"
      ],
      "metadata": {
        "id": "iocWFuNvaGjX"
      },
      "id": "iocWFuNvaGjX"
    },
    {
      "cell_type": "code",
      "execution_count": null,
      "id": "0c984529",
      "metadata": {
        "id": "0c984529"
      },
      "outputs": [],
      "source": [
        "import torch\n",
        "import torchvision\n",
        "import torchvision.transforms as transforms"
      ]
    },
    {
      "cell_type": "code",
      "execution_count": null,
      "id": "f1f70e00",
      "metadata": {
        "colab": {
          "base_uri": "https://localhost:8080/",
          "height": 104,
          "referenced_widgets": [
            "5aeea86d346c49a9a070efeb746c15c3",
            "fcdd0995425442de83aedc6c157396f9",
            "13db09b7d5f24cbc82eb6bb4a7e2b04d",
            "eda4571c6119464896cda99e85841e46",
            "cf94e662f9114e6eac24ccc6b671efad",
            "29acf99c6faf488d9e6b7492ead45986",
            "2f636d53c03440a6a47b2dafcfd8886f",
            "fe780edc9b174e5a8fb91a6272b4ecc1",
            "5b92f21e071d4887bd491b55dc3c09e4",
            "006b68923f6c4ed6abf97a717eae68ab",
            "c967b526ebda48fb98be888e61843fc9"
          ]
        },
        "id": "f1f70e00",
        "outputId": "8b931ac0-f11a-449f-cc8f-1f8348624e4d"
      },
      "outputs": [
        {
          "output_type": "stream",
          "name": "stdout",
          "text": [
            "Downloading https://www.cs.toronto.edu/~kriz/cifar-10-python.tar.gz to ./data/cifar-10-python.tar.gz\n"
          ]
        },
        {
          "output_type": "display_data",
          "data": {
            "text/plain": [
              "  0%|          | 0/170498071 [00:00<?, ?it/s]"
            ],
            "application/vnd.jupyter.widget-view+json": {
              "version_major": 2,
              "version_minor": 0,
              "model_id": "5aeea86d346c49a9a070efeb746c15c3"
            }
          },
          "metadata": {}
        },
        {
          "output_type": "stream",
          "name": "stdout",
          "text": [
            "Extracting ./data/cifar-10-python.tar.gz to ./data\n",
            "Files already downloaded and verified\n"
          ]
        }
      ],
      "source": [
        "transform = transforms.Compose(\n",
        "    [transforms.ToTensor(),\n",
        "     transforms.Normalize((0.5, 0.5, 0.5), (0.5, 0.5, 0.5))])\n",
        "\n",
        "batch_size = 4\n",
        "\n",
        "trainset = torchvision.datasets.CIFAR10(root='./data', train=True,\n",
        "                                        download=True, transform=transform)\n",
        "trainloader = torch.utils.data.DataLoader(trainset, batch_size=batch_size,\n",
        "                                          shuffle=True, num_workers=2)\n",
        "\n",
        "testset = torchvision.datasets.CIFAR10(root='./data', train=False,\n",
        "                                       download=True, transform=transform)\n",
        "testloader = torch.utils.data.DataLoader(testset, batch_size=batch_size,\n",
        "                                         shuffle=False, num_workers=2)\n",
        "\n",
        "classes = ('plane', 'car', 'bird', 'cat',\n",
        "           'deer', 'dog', 'frog', 'horse', 'ship', 'truck')"
      ]
    },
    {
      "cell_type": "code",
      "execution_count": null,
      "id": "0284914c",
      "metadata": {
        "colab": {
          "base_uri": "https://localhost:8080/",
          "height": 156
        },
        "id": "0284914c",
        "outputId": "bc2feea3-177b-437e-da09-c89f274cf6ac"
      },
      "outputs": [
        {
          "output_type": "display_data",
          "data": {
            "text/plain": [
              "<Figure size 432x288 with 1 Axes>"
            ],
            "image/png": "[encoded data removed]"
          },
          "metadata": {
            "needs_background": "light"
          }
        },
        {
          "output_type": "stream",
          "name": "stdout",
          "text": [
            "car   bird  truck plane\n"
          ]
        }
      ],
      "source": [
        "import matplotlib.pyplot as plt\n",
        "import numpy as np\n",
        "\n",
        "# функция для показа изображения\n",
        "def imshow(img):\n",
        "    img = img  / 2  + 0.5    \n",
        "    npimg = img.numpy()\n",
        "    plt.imshow(np.transpose(npimg, (1, 2, 0)))\n",
        "    plt.show()\n",
        "\n",
        "\n",
        "# получаем несколько случайных обучающих изображений\n",
        "dataiter = iter(trainloader)\n",
        "images, labels = next(dataiter)\n",
        "\n",
        "# показать изображения\n",
        "imshow(torchvision.utils.make_grid(images))\n",
        "# показать лейблы изображений\n",
        "print(' '.join(f'{classes[labels[j]]:5s}' for j in range(batch_size)))"
      ]
    },
    {
      "cell_type": "code",
      "execution_count": null,
      "id": "b09850a1",
      "metadata": {
        "id": "b09850a1"
      },
      "outputs": [],
      "source": [
        "import torch.nn as nn\n",
        "import torch.nn.functional as F\n",
        "\n",
        "# Инициализация модели\n",
        "class Net(nn.Module):\n",
        "    def __init__(self):\n",
        "        super().__init__()\n",
        "        self.conv1 = nn.Conv2d(3, 6, 5) # (in_channels, out_channels, kernel_size) Применяет 2D-свертку к входному сигналу, состоящему из нескольких входных плоскостей.\n",
        "        self.pool = nn.MaxPool2d(2, 2) # (kernel_size, stride) Применяет MaxPool2D-объединение к входному сигналу, состоящему из нескольких входных плоскостей.\n",
        "        self.conv2 = nn.Conv2d(6, 16, 5) \n",
        "        self.fc1 = nn.Linear(16 * 5 * 5, 120 )# (in_features , out_features) Применяет линейное преобразование к входящим данным\n",
        "        self.fc2 = nn.Linear(120, 84)\n",
        "        self.fc3 = nn.Linear(84, 10)\n",
        "\n",
        "    # Это forward функция, которая определяет структуру сети.\n",
        "    # Здесь мы принимаем только один вход, но можно использовать больше.\n",
        "    def forward(self, x):\n",
        "        x = self.pool(F.relu(self.conv1(x)))\n",
        "        x = self.pool(F.relu(self.conv2(x)))\n",
        "        x = torch.flatten(x, 1) #(input, start_dim) Сглаживает input путем преобразования его в одномерный тензор.\n",
        "        x = F.relu(self.fc1(x))\n",
        "        x = F.relu(self.fc2(x))\n",
        "        x = self.fc3(x)\n",
        "        return x\n",
        "\n",
        "net = Net()"
      ]
    },
    {
      "cell_type": "markdown",
      "source": [
        "Коэффициент скорости обучения – это гиперпараметр, определяющий порядок того, как мы будем корректировать наши весы с учётом функции потерь в градиентном спуске. Чем ниже величина, тем медленнее мы движемся по наклонной. Хотя при использовании низкого коэффициента скорости обучения мы можем получить положительный эффект в том смысле, чтобы не пропустить ни одного локального минимума, — это также может означать, что нам придётся затратить много времени на cходимость, особенно если мы попали в область плато.\n",
        "\n",
        "Импульс (momentum) в нейронных сетях — это вариант стохастического градиентного спуска . Он заменяет градиент импульсом , который представляет собой совокупность градиентов, как очень хорошо объяснено [здесь](https://towardsdatascience.com/10-gradient-descent-optimisation-algorithms-86989510b5e9).\n",
        "\n",
        "\n"
      ],
      "metadata": {
        "id": "SBQW3zETNF1Z"
      },
      "id": "SBQW3zETNF1Z"
    },
    {
      "cell_type": "code",
      "execution_count": null,
      "id": "a2ca8923",
      "metadata": {
        "id": "a2ca8923"
      },
      "outputs": [],
      "source": [
        "import torch.optim as optim\n",
        "\n",
        "#Критерии полезны для обучения нейронной сети. Учитывая входные данные и цель, они вычисляют градиент в соответствии с заданной функцией потерь\n",
        "criterion = nn.CrossEntropyLoss()\n",
        "#torch.optim - это пакет, реализующий различные алгоритмы оптимизации. Наиболее часто используемые методы уже поддерживаются, а интерфейс достаточно общий, так что более сложные методы могут быть также легко интегрированы в будущем.\n",
        "optimizer = optim.SGD(net.parameters(), lr=0.001, momentum=0.9)"
      ]
    },
    {
      "cell_type": "code",
      "execution_count": null,
      "id": "d6eb9589",
      "metadata": {
        "colab": {
          "base_uri": "https://localhost:8080/"
        },
        "id": "d6eb9589",
        "outputId": "30438c88-b6ac-45ec-a0a4-e9fa472b2c78"
      },
      "outputs": [
        {
          "output_type": "stream",
          "name": "stdout",
          "text": [
            "[1,  2000] loss: 2.203\n",
            "[1,  4000] loss: 1.829\n",
            "[1,  6000] loss: 1.659\n",
            "[1,  8000] loss: 1.573\n",
            "[1, 10000] loss: 1.501\n",
            "[1, 12000] loss: 1.477\n",
            "[2,  2000] loss: 1.379\n",
            "[2,  4000] loss: 1.354\n",
            "[2,  6000] loss: 1.344\n",
            "[2,  8000] loss: 1.327\n",
            "[2, 10000] loss: 1.288\n",
            "[2, 12000] loss: 1.260\n",
            "Finished Training\n"
          ]
        }
      ],
      "source": [
        "for epoch in range(2):  # многократное прохождение по набору данных\n",
        "\n",
        "    running_loss = 0.0\n",
        "    for i, data in enumerate(trainloader, 0):\n",
        "        # получаем входные данные; данные - это список [inputs, labels].\n",
        "        inputs, labels = data\n",
        "\n",
        "        # обнуляем градиенты параметров\n",
        "        optimizer.zero_grad()\n",
        "\n",
        "        # forward + backward + optimize\n",
        "        outputs = net(inputs)\n",
        "        loss = criterion(outputs, labels)\n",
        "        loss.backward()\n",
        "        optimizer.step()\n",
        "\n",
        "        # вывести статистику обучения\n",
        "        running_loss += loss.item()\n",
        "        if i % 2000 == 1999:    # вывести каждые 2000 mini-batches\n",
        "            print(f'[{epoch + 1}, {i + 1:5d}] loss: {running_loss / 2000:.3f}')\n",
        "            running_loss = 0.0\n",
        "\n",
        "print('Finished Training')"
      ]
    },
    {
      "cell_type": "code",
      "execution_count": null,
      "id": "92d58968",
      "metadata": {
        "id": "92d58968"
      },
      "outputs": [],
      "source": [
        "#Сохранение нашей модели\n",
        "PATH = './cifar_net.pth'\n",
        "torch.save(net.state_dict(), PATH)"
      ]
    },
    {
      "cell_type": "code",
      "execution_count": null,
      "id": "7a71b790",
      "metadata": {
        "colab": {
          "base_uri": "https://localhost:8080/",
          "height": 156
        },
        "id": "7a71b790",
        "outputId": "7ae9e5e7-7567-448f-fd63-393582e0756c"
      },
      "outputs": [
        {
          "output_type": "display_data",
          "data": {
            "text/plain": [
              "<Figure size 432x288 with 1 Axes>"
            ],
            "image/png": "[encoded data removed]"
          },
          "metadata": {
            "needs_background": "light"
          }
        },
        {
          "output_type": "stream",
          "name": "stdout",
          "text": [
            "GroundTruth:  cat   ship  ship  plane\n"
          ]
        }
      ],
      "source": [
        "dataiter = iter(testloader)\n",
        "images, labels = next(dataiter)\n",
        "\n",
        "# вывод изображений\n",
        "imshow(torchvision.utils.make_grid(images))\n",
        "print('GroundTruth: ', ' '.join(f'{classes[labels[j]]:5s}' for j in range(4)))"
      ]
    },
    {
      "cell_type": "code",
      "execution_count": null,
      "id": "8651f588",
      "metadata": {
        "colab": {
          "base_uri": "https://localhost:8080/"
        },
        "id": "8651f588",
        "outputId": "d848b0e8-d096-4577-f716-4c81abd455e8"
      },
      "outputs": [
        {
          "output_type": "execute_result",
          "data": {
            "text/plain": [
              "<All keys matched successfully>"
            ]
          },
          "metadata": {},
          "execution_count": 9
        }
      ],
      "source": [
        "net = Net()\n",
        "net.load_state_dict(torch.load(PATH))"
      ]
    },
    {
      "cell_type": "code",
      "execution_count": null,
      "id": "5aee0378",
      "metadata": {
        "id": "5aee0378"
      },
      "outputs": [],
      "source": [
        "outputs = net(images)"
      ]
    },
    {
      "cell_type": "code",
      "execution_count": null,
      "id": "5d73809a",
      "metadata": {
        "colab": {
          "base_uri": "https://localhost:8080/"
        },
        "id": "5d73809a",
        "outputId": "f258e013-0553-4425-df12-a97be1bdf8a2"
      },
      "outputs": [
        {
          "output_type": "stream",
          "name": "stdout",
          "text": [
            "Accuracy of the network on the 10000 test images: 54 %\n"
          ]
        }
      ],
      "source": [
        "correct = 0\n",
        "total = 0\n",
        "# поскольку мы не обучаемся, нам не нужно вычислять градиенты для наших выходов\n",
        "with torch.no_grad():\n",
        "    for data in testloader:\n",
        "        images, labels = data\n",
        "        # рассчитываем выходные данные, пропуская изображения через сеть\n",
        "        outputs = net(images)\n",
        "        # класс с наибольшей мощностью - это то, что мы выбираем в качестве предсказания\n",
        "        _, predicted = torch.max(outputs.data, 1)\n",
        "        total += labels.size(0)\n",
        "        correct += (predicted == labels).sum().item()\n",
        "\n",
        "print(f'Accuracy of the network on the 10000 test images: {100 * correct // total} %')"
      ]
    },
    {
      "cell_type": "code",
      "execution_count": null,
      "id": "0562b18b",
      "metadata": {
        "colab": {
          "base_uri": "https://localhost:8080/"
        },
        "id": "0562b18b",
        "outputId": "01058dd0-2786-4864-d5bb-617e69232a41"
      },
      "outputs": [
        {
          "output_type": "stream",
          "name": "stdout",
          "text": [
            "Accuracy for class: plane is 46.9 %\n",
            "Accuracy for class: car   is 59.5 %\n",
            "Accuracy for class: bird  is 41.0 %\n",
            "Accuracy for class: cat   is 29.4 %\n",
            "Accuracy for class: deer  is 50.7 %\n",
            "Accuracy for class: dog   is 52.6 %\n",
            "Accuracy for class: frog  is 66.5 %\n",
            "Accuracy for class: horse is 74.7 %\n",
            "Accuracy for class: ship  is 68.1 %\n",
            "Accuracy for class: truck is 57.5 %\n"
          ]
        }
      ],
      "source": [
        "# Подготовка\n",
        "correct_pred = {classname: 0 for classname in classes}\n",
        "total_pred = {classname: 0 for classname in classes}\n",
        "\n",
        "with torch.no_grad():\n",
        "    for data in testloader:\n",
        "        images, labels = data\n",
        "        outputs = net(images)\n",
        "        _, predictions = torch.max(outputs, 1)\n",
        "        # собираем правильные прогнозы для каждого класса\n",
        "        for label, prediction in zip(labels, predictions):\n",
        "            if label == prediction:\n",
        "                correct_pred[classes[label]] += 1\n",
        "            total_pred[classes[label]] += 1\n",
        "\n",
        "\n",
        "# Выводим точность на каждом классе\n",
        "for classname, correct_count in correct_pred.items():\n",
        "    accuracy = 100 * float(correct_count) / total_pred[classname]\n",
        "    print(f'Accuracy for class: {classname:5s} is {accuracy:.1f} %')"
      ]
    },
    {
      "cell_type": "markdown",
      "source": [
        "# Задание на практику 2\n",
        "1. Модифицировать архитектуру СНС в примере (показать повышение точности)\n",
        "2. Обучить свой классификатор на своем датасете\n",
        "3. Назвать популярые архитектуры СНС и их особенности"
      ],
      "metadata": {
        "id": "PdfL_42_bTa8"
      },
      "id": "PdfL_42_bTa8"
    }
  ],
  "metadata": {
    "kernelspec": {
      "display_name": "Python 3 (ipykernel)",
      "language": "python",
      "name": "python3"
    },
    "language_info": {
      "codemirror_mode": {
        "name": "ipython",
        "version": 3
      },
      "file_extension": ".py",
      "mimetype": "text/x-python",
      "name": "python",
      "nbconvert_exporter": "python",
      "pygments_lexer": "ipython3",
      "version": "3.9.12"
    },
    "colab": {
      "provenance": []
    },
    "accelerator": "GPU",
    "gpuClass": "standard",
    "widgets": {
      "application/vnd.jupyter.widget-state+json": {
        "5aeea86d346c49a9a070efeb746c15c3": {
          "model_module": "@jupyter-widgets/controls",
          "model_name": "HBoxModel",
          "model_module_version": "1.5.0",
          "state": {
            "_dom_classes": [],
            "_model_module": "@jupyter-widgets/controls",
            "_model_module_version": "1.5.0",
            "_model_name": "HBoxModel",
            "_view_count": null,
            "_view_module": "@jupyter-widgets/controls",
            "_view_module_version": "1.5.0",
            "_view_name": "HBoxView",
            "box_style": "",
            "children": [
              "IPY_MODEL_fcdd0995425442de83aedc6c157396f9",
              "IPY_MODEL_13db09b7d5f24cbc82eb6bb4a7e2b04d",
              "IPY_MODEL_eda4571c6119464896cda99e85841e46"
            ],
            "layout": "IPY_MODEL_cf94e662f9114e6eac24ccc6b671efad"
          }
        },
        "fcdd0995425442de83aedc6c157396f9": {
          "model_module": "@jupyter-widgets/controls",
          "model_name": "HTMLModel",
          "model_module_version": "1.5.0",
          "state": {
            "_dom_classes": [],
            "_model_module": "@jupyter-widgets/controls",
            "_model_module_version": "1.5.0",
            "_model_name": "HTMLModel",
            "_view_count": null,
            "_view_module": "@jupyter-widgets/controls",
            "_view_module_version": "1.5.0",
            "_view_name": "HTMLView",
            "description": "",
            "description_tooltip": null,
            "layout": "IPY_MODEL_29acf99c6faf488d9e6b7492ead45986",
            "placeholder": "​",
            "style": "IPY_MODEL_2f636d53c03440a6a47b2dafcfd8886f",
            "value": "100%"
          }
        },
        "13db09b7d5f24cbc82eb6bb4a7e2b04d": {
          "model_module": "@jupyter-widgets/controls",
          "model_name": "FloatProgressModel",
          "model_module_version": "1.5.0",
          "state": {
            "_dom_classes": [],
            "_model_module": "@jupyter-widgets/controls",
            "_model_module_version": "1.5.0",
            "_model_name": "FloatProgressModel",
            "_view_count": null,
            "_view_module": "@jupyter-widgets/controls",
            "_view_module_version": "1.5.0",
            "_view_name": "ProgressView",
            "bar_style": "success",
            "description": "",
            "description_tooltip": null,
            "layout": "IPY_MODEL_fe780edc9b174e5a8fb91a6272b4ecc1",
            "max": 170498071,
            "min": 0,
            "orientation": "horizontal",
            "style": "IPY_MODEL_5b92f21e071d4887bd491b55dc3c09e4",
            "value": 170498071
          }
        },
        "eda4571c6119464896cda99e85841e46": {
          "model_module": "@jupyter-widgets/controls",
          "model_name": "HTMLModel",
          "model_module_version": "1.5.0",
          "state": {
            "_dom_classes": [],
            "_model_module": "@jupyter-widgets/controls",
            "_model_module_version": "1.5.0",
            "_model_name": "HTMLModel",
            "_view_count": null,
            "_view_module": "@jupyter-widgets/controls",
            "_view_module_version": "1.5.0",
            "_view_name": "HTMLView",
            "description": "",
            "description_tooltip": null,
            "layout": "IPY_MODEL_006b68923f6c4ed6abf97a717eae68ab",
            "placeholder": "​",
            "style": "IPY_MODEL_c967b526ebda48fb98be888e61843fc9",
            "value": " 170498071/170498071 [00:52&lt;00:00, 1959295.28it/s]"
          }
        },
        "cf94e662f9114e6eac24ccc6b671efad": {
          "model_module": "@jupyter-widgets/base",
          "model_name": "LayoutModel",
          "model_module_version": "1.2.0",
          "state": {
            "_model_module": "@jupyter-widgets/base",
            "_model_module_version": "1.2.0",
            "_model_name": "LayoutModel",
            "_view_count": null,
            "_view_module": "@jupyter-widgets/base",
            "_view_module_version": "1.2.0",
            "_view_name": "LayoutView",
            "align_content": null,
            "align_items": null,
            "align_self": null,
            "border": null,
            "bottom": null,
            "display": null,
            "flex": null,
            "flex_flow": null,
            "grid_area": null,
            "grid_auto_columns": null,
            "grid_auto_flow": null,
            "grid_auto_rows": null,
            "grid_column": null,
            "grid_gap": null,
            "grid_row": null,
            "grid_template_areas": null,
            "grid_template_columns": null,
            "grid_template_rows": null,
            "height": null,
            "justify_content": null,
            "justify_items": null,
            "left": null,
            "margin": null,
            "max_height": null,
            "max_width": null,
            "min_height": null,
            "min_width": null,
            "object_fit": null,
            "object_position": null,
            "order": null,
            "overflow": null,
            "overflow_x": null,
            "overflow_y": null,
            "padding": null,
            "right": null,
            "top": null,
            "visibility": null,
            "width": null
          }
        },
        "29acf99c6faf488d9e6b7492ead45986": {
          "model_module": "@jupyter-widgets/base",
          "model_name": "LayoutModel",
          "model_module_version": "1.2.0",
          "state": {
            "_model_module": "@jupyter-widgets/base",
            "_model_module_version": "1.2.0",
            "_model_name": "LayoutModel",
            "_view_count": null,
            "_view_module": "@jupyter-widgets/base",
            "_view_module_version": "1.2.0",
            "_view_name": "LayoutView",
            "align_content": null,
            "align_items": null,
            "align_self": null,
            "border": null,
            "bottom": null,
            "display": null,
            "flex": null,
            "flex_flow": null,
            "grid_area": null,
            "grid_auto_columns": null,
            "grid_auto_flow": null,
            "grid_auto_rows": null,
            "grid_column": null,
            "grid_gap": null,
            "grid_row": null,
            "grid_template_areas": null,
            "grid_template_columns": null,
            "grid_template_rows": null,
            "height": null,
            "justify_content": null,
            "justify_items": null,
            "left": null,
            "margin": null,
            "max_height": null,
            "max_width": null,
            "min_height": null,
            "min_width": null,
            "object_fit": null,
            "object_position": null,
            "order": null,
            "overflow": null,
            "overflow_x": null,
            "overflow_y": null,
            "padding": null,
            "right": null,
            "top": null,
            "visibility": null,
            "width": null
          }
        },
        "2f636d53c03440a6a47b2dafcfd8886f": {
          "model_module": "@jupyter-widgets/controls",
          "model_name": "DescriptionStyleModel",
          "model_module_version": "1.5.0",
          "state": {
            "_model_module": "@jupyter-widgets/controls",
            "_model_module_version": "1.5.0",
            "_model_name": "DescriptionStyleModel",
            "_view_count": null,
            "_view_module": "@jupyter-widgets/base",
            "_view_module_version": "1.2.0",
            "_view_name": "StyleView",
            "description_width": ""
          }
        },
        "fe780edc9b174e5a8fb91a6272b4ecc1": {
          "model_module": "@jupyter-widgets/base",
          "model_name": "LayoutModel",
          "model_module_version": "1.2.0",
          "state": {
            "_model_module": "@jupyter-widgets/base",
            "_model_module_version": "1.2.0",
            "_model_name": "LayoutModel",
            "_view_count": null,
            "_view_module": "@jupyter-widgets/base",
            "_view_module_version": "1.2.0",
            "_view_name": "LayoutView",
            "align_content": null,
            "align_items": null,
            "align_self": null,
            "border": null,
            "bottom": null,
            "display": null,
            "flex": null,
            "flex_flow": null,
            "grid_area": null,
            "grid_auto_columns": null,
            "grid_auto_flow": null,
            "grid_auto_rows": null,
            "grid_column": null,
            "grid_gap": null,
            "grid_row": null,
            "grid_template_areas": null,
            "grid_template_columns": null,
            "grid_template_rows": null,
            "height": null,
            "justify_content": null,
            "justify_items": null,
            "left": null,
            "margin": null,
            "max_height": null,
            "max_width": null,
            "min_height": null,
            "min_width": null,
            "object_fit": null,
            "object_position": null,
            "order": null,
            "overflow": null,
            "overflow_x": null,
            "overflow_y": null,
            "padding": null,
            "right": null,
            "top": null,
            "visibility": null,
            "width": null
          }
        },
        "5b92f21e071d4887bd491b55dc3c09e4": {
          "model_module": "@jupyter-widgets/controls",
          "model_name": "ProgressStyleModel",
          "model_module_version": "1.5.0",
          "state": {
            "_model_module": "@jupyter-widgets/controls",
            "_model_module_version": "1.5.0",
            "_model_name": "ProgressStyleModel",
            "_view_count": null,
            "_view_module": "@jupyter-widgets/base",
            "_view_module_version": "1.2.0",
            "_view_name": "StyleView",
            "bar_color": null,
            "description_width": ""
          }
        },
        "006b68923f6c4ed6abf97a717eae68ab": {
          "model_module": "@jupyter-widgets/base",
          "model_name": "LayoutModel",
          "model_module_version": "1.2.0",
          "state": {
            "_model_module": "@jupyter-widgets/base",
            "_model_module_version": "1.2.0",
            "_model_name": "LayoutModel",
            "_view_count": null,
            "_view_module": "@jupyter-widgets/base",
            "_view_module_version": "1.2.0",
            "_view_name": "LayoutView",
            "align_content": null,
            "align_items": null,
            "align_self": null,
            "border": null,
            "bottom": null,
            "display": null,
            "flex": null,
            "flex_flow": null,
            "grid_area": null,
            "grid_auto_columns": null,
            "grid_auto_flow": null,
            "grid_auto_rows": null,
            "grid_column": null,
            "grid_gap": null,
            "grid_row": null,
            "grid_template_areas": null,
            "grid_template_columns": null,
            "grid_template_rows": null,
            "height": null,
            "justify_content": null,
            "justify_items": null,
            "left": null,
            "margin": null,
            "max_height": null,
            "max_width": null,
            "min_height": null,
            "min_width": null,
            "object_fit": null,
            "object_position": null,
            "order": null,
            "overflow": null,
            "overflow_x": null,
            "overflow_y": null,
            "padding": null,
            "right": null,
            "top": null,
            "visibility": null,
            "width": null
          }
        },
        "c967b526ebda48fb98be888e61843fc9": {
          "model_module": "@jupyter-widgets/controls",
          "model_name": "DescriptionStyleModel",
          "model_module_version": "1.5.0",
          "state": {
            "_model_module": "@jupyter-widgets/controls",
            "_model_module_version": "1.5.0",
            "_model_name": "DescriptionStyleModel",
            "_view_count": null,
            "_view_module": "@jupyter-widgets/base",
            "_view_module_version": "1.2.0",
            "_view_name": "StyleView",
            "description_width": ""
          }
        }
      }
    }
  },
  "nbformat": 4,
  "nbformat_minor": 5
}