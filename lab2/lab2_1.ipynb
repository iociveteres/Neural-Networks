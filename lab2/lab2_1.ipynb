{
  "cells": [
    {
      "cell_type": "code",
      "execution_count": 2,
      "id": "0c984529",
      "metadata": {
        "id": "0c984529"
      },
      "outputs": [],
      "source": [
        "import torch\n",
        "import torch.cuda\n",
        "import numpy as np"
      ]
    },
    {
      "cell_type": "code",
      "execution_count": 3,
      "id": "8bdc80eb",
      "metadata": {},
      "outputs": [
        {
          "name": "stdout",
          "output_type": "stream",
          "text": [
            "Using device: cuda\n",
            "\n",
            "NVIDIA GeForce RTX 3060 Ti\n",
            "Memory Usage:\n",
            "Allocated: 0.0 GB\n",
            "Cached:    0.0 GB\n"
          ]
        }
      ],
      "source": [
        "# setting device on GPU if available, else CPU\n",
        "device = torch.device('cuda' if torch.cuda.is_available() else 'cpu')\n",
        "print('Using device:', device)\n",
        "print()\n",
        "\n",
        "#Additional Info when using cuda\n",
        "if device.type == 'cuda':\n",
        "    print(torch.cuda.get_device_name(0))\n",
        "    print('Memory Usage:')\n",
        "    print('Allocated:', round(torch.cuda.memory_allocated(0)/1024**3,1), 'GB')\n",
        "    print('Cached:   ', round(torch.cuda.memory_reserved(0)/1024**3,1), 'GB')"
      ]
    },
    {
      "cell_type": "code",
      "execution_count": 4,
      "id": "f25c344d",
      "metadata": {},
      "outputs": [],
      "source": [
        "def seed_everything(seed: int):\n",
        "    import random, os\n",
        "    import numpy as np\n",
        "    import torch\n",
        "    \n",
        "    random.seed(seed)\n",
        "    os.environ['PYTHONHASHSEED'] = str(seed)\n",
        "    np.random.seed(seed)\n",
        "    torch.manual_seed(seed)\n",
        "    torch.cuda.manual_seed(seed)\n",
        "    torch.backends.cudnn.deterministic = True\n",
        "    torch.backends.cudnn.benchmark = False\n",
        "\n",
        "import random\n",
        "seed_everything(random.randint(1, 10000))"
      ]
    },
    {
      "cell_type": "code",
      "execution_count": 5,
      "id": "6a41eec1",
      "metadata": {},
      "outputs": [
        {
          "data": {
            "text/html": [
              "<div>\n",
              "<style scoped>\n",
              "    .dataframe tbody tr th:only-of-type {\n",
              "        vertical-align: middle;\n",
              "    }\n",
              "\n",
              "    .dataframe tbody tr th {\n",
              "        vertical-align: top;\n",
              "    }\n",
              "\n",
              "    .dataframe thead th {\n",
              "        text-align: right;\n",
              "    }\n",
              "</style>\n",
              "<table border=\"1\" class=\"dataframe\">\n",
              "  <thead>\n",
              "    <tr style=\"text-align: right;\">\n",
              "      <th></th>\n",
              "      <th>Unnamed: 0</th>\n",
              "      <th>type</th>\n",
              "      <th>review</th>\n",
              "      <th>label</th>\n",
              "      <th>file</th>\n",
              "    </tr>\n",
              "  </thead>\n",
              "  <tbody>\n",
              "    <tr>\n",
              "      <th>0</th>\n",
              "      <td>0</td>\n",
              "      <td>test</td>\n",
              "      <td>Once again Mr. Costner has dragged out a movie...</td>\n",
              "      <td>neg</td>\n",
              "      <td>0_2.txt</td>\n",
              "    </tr>\n",
              "    <tr>\n",
              "      <th>1</th>\n",
              "      <td>1</td>\n",
              "      <td>test</td>\n",
              "      <td>This is an example of why the majority of acti...</td>\n",
              "      <td>neg</td>\n",
              "      <td>10000_4.txt</td>\n",
              "    </tr>\n",
              "    <tr>\n",
              "      <th>2</th>\n",
              "      <td>2</td>\n",
              "      <td>test</td>\n",
              "      <td>First of all I hate those moronic rappers, who...</td>\n",
              "      <td>neg</td>\n",
              "      <td>10001_1.txt</td>\n",
              "    </tr>\n",
              "    <tr>\n",
              "      <th>3</th>\n",
              "      <td>3</td>\n",
              "      <td>test</td>\n",
              "      <td>Not even the Beatles could write songs everyon...</td>\n",
              "      <td>neg</td>\n",
              "      <td>10002_3.txt</td>\n",
              "    </tr>\n",
              "    <tr>\n",
              "      <th>4</th>\n",
              "      <td>4</td>\n",
              "      <td>test</td>\n",
              "      <td>Brass pictures (movies is not a fitting word f...</td>\n",
              "      <td>neg</td>\n",
              "      <td>10003_3.txt</td>\n",
              "    </tr>\n",
              "  </tbody>\n",
              "</table>\n",
              "</div>"
            ],
            "text/plain": [
              "   Unnamed: 0  type                                             review label  \\\n",
              "0           0  test  Once again Mr. Costner has dragged out a movie...   neg   \n",
              "1           1  test  This is an example of why the majority of acti...   neg   \n",
              "2           2  test  First of all I hate those moronic rappers, who...   neg   \n",
              "3           3  test  Not even the Beatles could write songs everyon...   neg   \n",
              "4           4  test  Brass pictures (movies is not a fitting word f...   neg   \n",
              "\n",
              "          file  \n",
              "0      0_2.txt  \n",
              "1  10000_4.txt  \n",
              "2  10001_1.txt  \n",
              "3  10002_3.txt  \n",
              "4  10003_3.txt  "
            ]
          },
          "execution_count": 5,
          "metadata": {},
          "output_type": "execute_result"
        }
      ],
      "source": [
        "import pandas as pd\n",
        "\n",
        "df = pd.read_csv('./imdb_master.csv', encoding=\"latin-1\")\n",
        "df.head()"
      ]
    },
    {
      "cell_type": "code",
      "execution_count": 6,
      "id": "ed9b0950",
      "metadata": {},
      "outputs": [
        {
          "data": {
            "text/html": [
              "<div>\n",
              "<style scoped>\n",
              "    .dataframe tbody tr th:only-of-type {\n",
              "        vertical-align: middle;\n",
              "    }\n",
              "\n",
              "    .dataframe tbody tr th {\n",
              "        vertical-align: top;\n",
              "    }\n",
              "\n",
              "    .dataframe thead th {\n",
              "        text-align: right;\n",
              "    }\n",
              "</style>\n",
              "<table border=\"1\" class=\"dataframe\">\n",
              "  <thead>\n",
              "    <tr style=\"text-align: right;\">\n",
              "      <th></th>\n",
              "      <th>review</th>\n",
              "      <th>label</th>\n",
              "    </tr>\n",
              "  </thead>\n",
              "  <tbody>\n",
              "    <tr>\n",
              "      <th>0</th>\n",
              "      <td>Once again Mr. Costner has dragged out a movie...</td>\n",
              "      <td>neg</td>\n",
              "    </tr>\n",
              "    <tr>\n",
              "      <th>1</th>\n",
              "      <td>This is an example of why the majority of acti...</td>\n",
              "      <td>neg</td>\n",
              "    </tr>\n",
              "    <tr>\n",
              "      <th>2</th>\n",
              "      <td>First of all I hate those moronic rappers, who...</td>\n",
              "      <td>neg</td>\n",
              "    </tr>\n",
              "    <tr>\n",
              "      <th>3</th>\n",
              "      <td>Not even the Beatles could write songs everyon...</td>\n",
              "      <td>neg</td>\n",
              "    </tr>\n",
              "    <tr>\n",
              "      <th>4</th>\n",
              "      <td>Brass pictures (movies is not a fitting word f...</td>\n",
              "      <td>neg</td>\n",
              "    </tr>\n",
              "  </tbody>\n",
              "</table>\n",
              "</div>"
            ],
            "text/plain": [
              "                                              review label\n",
              "0  Once again Mr. Costner has dragged out a movie...   neg\n",
              "1  This is an example of why the majority of acti...   neg\n",
              "2  First of all I hate those moronic rappers, who...   neg\n",
              "3  Not even the Beatles could write songs everyon...   neg\n",
              "4  Brass pictures (movies is not a fitting word f...   neg"
            ]
          },
          "execution_count": 6,
          "metadata": {},
          "output_type": "execute_result"
        }
      ],
      "source": [
        "df = df.drop(['Unnamed: 0', 'type', 'file'], axis=1)\n",
        "df.columns = ['review', 'label']\n",
        "df.head()"
      ]
    },
    {
      "cell_type": "code",
      "execution_count": 7,
      "id": "d20d6f92",
      "metadata": {},
      "outputs": [
        {
          "data": {
            "text/html": [
              "<div>\n",
              "<style scoped>\n",
              "    .dataframe tbody tr th:only-of-type {\n",
              "        vertical-align: middle;\n",
              "    }\n",
              "\n",
              "    .dataframe tbody tr th {\n",
              "        vertical-align: top;\n",
              "    }\n",
              "\n",
              "    .dataframe thead th {\n",
              "        text-align: right;\n",
              "    }\n",
              "</style>\n",
              "<table border=\"1\" class=\"dataframe\">\n",
              "  <thead>\n",
              "    <tr style=\"text-align: right;\">\n",
              "      <th></th>\n",
              "      <th>review</th>\n",
              "      <th>label</th>\n",
              "    </tr>\n",
              "  </thead>\n",
              "  <tbody>\n",
              "    <tr>\n",
              "      <th>0</th>\n",
              "      <td>Once again Mr. Costner has dragged out a movie...</td>\n",
              "      <td>0</td>\n",
              "    </tr>\n",
              "    <tr>\n",
              "      <th>1</th>\n",
              "      <td>This is an example of why the majority of acti...</td>\n",
              "      <td>0</td>\n",
              "    </tr>\n",
              "    <tr>\n",
              "      <th>2</th>\n",
              "      <td>First of all I hate those moronic rappers, who...</td>\n",
              "      <td>0</td>\n",
              "    </tr>\n",
              "    <tr>\n",
              "      <th>3</th>\n",
              "      <td>Not even the Beatles could write songs everyon...</td>\n",
              "      <td>0</td>\n",
              "    </tr>\n",
              "    <tr>\n",
              "      <th>4</th>\n",
              "      <td>Brass pictures (movies is not a fitting word f...</td>\n",
              "      <td>0</td>\n",
              "    </tr>\n",
              "  </tbody>\n",
              "</table>\n",
              "</div>"
            ],
            "text/plain": [
              "                                              review  label\n",
              "0  Once again Mr. Costner has dragged out a movie...      0\n",
              "1  This is an example of why the majority of acti...      0\n",
              "2  First of all I hate those moronic rappers, who...      0\n",
              "3  Not even the Beatles could write songs everyon...      0\n",
              "4  Brass pictures (movies is not a fitting word f...      0"
            ]
          },
          "execution_count": 7,
          "metadata": {},
          "output_type": "execute_result"
        }
      ],
      "source": [
        "# В датасете присутствуют отзывы, неразмеченные как положительные или отрицательные\n",
        "df = df[df.label != 'unsup']\n",
        "df['label'] = df['label'].map({'pos': 1, 'neg': 0})\n",
        "df.head()"
      ]
    },
    {
      "cell_type": "code",
      "execution_count": 8,
      "id": "5319a8f9",
      "metadata": {},
      "outputs": [
        {
          "data": {
            "text/plain": [
              "(50000, 2)"
            ]
          },
          "execution_count": 8,
          "metadata": {},
          "output_type": "execute_result"
        }
      ],
      "source": [
        "df.shape"
      ]
    },
    {
      "cell_type": "code",
      "execution_count": 9,
      "id": "0a8b054e",
      "metadata": {},
      "outputs": [],
      "source": [
        "import re\n",
        "from nltk.stem import WordNetLemmatizer\n",
        "from nltk.corpus import stopwords\n",
        "\n",
        "stop_words = set(stopwords.words(\"english\")) \n",
        "lemmatizer = WordNetLemmatizer()\n",
        "\n",
        "def clean_text(text):\n",
        "    text = re.sub(r'[^\\w\\s]','',text, re.UNICODE)\n",
        "    text = text.lower()\n",
        "    text = [lemmatizer.lemmatize(token) for token in text.split(\" \")]\n",
        "    text = [lemmatizer.lemmatize(token, \"v\") for token in text]\n",
        "    text = [word for word in text if not word in stop_words]\n",
        "    text = \" \".join(text)\n",
        "    return text"
      ]
    },
    {
      "cell_type": "code",
      "execution_count": 10,
      "id": "ac834bc3",
      "metadata": {},
      "outputs": [
        {
          "data": {
            "text/html": [
              "<div>\n",
              "<style scoped>\n",
              "    .dataframe tbody tr th:only-of-type {\n",
              "        vertical-align: middle;\n",
              "    }\n",
              "\n",
              "    .dataframe tbody tr th {\n",
              "        vertical-align: top;\n",
              "    }\n",
              "\n",
              "    .dataframe thead th {\n",
              "        text-align: right;\n",
              "    }\n",
              "</style>\n",
              "<table border=\"1\" class=\"dataframe\">\n",
              "  <thead>\n",
              "    <tr style=\"text-align: right;\">\n",
              "      <th></th>\n",
              "      <th>review</th>\n",
              "      <th>label</th>\n",
              "      <th>processed_review</th>\n",
              "    </tr>\n",
              "  </thead>\n",
              "  <tbody>\n",
              "    <tr>\n",
              "      <th>0</th>\n",
              "      <td>Once again Mr. Costner has dragged out a movie...</td>\n",
              "      <td>0</td>\n",
              "      <td>mr costner ha drag movie far longer necessary ...</td>\n",
              "    </tr>\n",
              "    <tr>\n",
              "      <th>1</th>\n",
              "      <td>This is an example of why the majority of acti...</td>\n",
              "      <td>0</td>\n",
              "      <td>example majority action film generic bore real...</td>\n",
              "    </tr>\n",
              "    <tr>\n",
              "      <th>2</th>\n",
              "      <td>First of all I hate those moronic rappers, who...</td>\n",
              "      <td>0</td>\n",
              "      <td>first hate moronic rapper couldnt act gun pres...</td>\n",
              "    </tr>\n",
              "    <tr>\n",
              "      <th>3</th>\n",
              "      <td>Not even the Beatles could write songs everyon...</td>\n",
              "      <td>0</td>\n",
              "      <td>even beatles could write song everyone like al...</td>\n",
              "    </tr>\n",
              "    <tr>\n",
              "      <th>4</th>\n",
              "      <td>Brass pictures (movies is not a fitting word f...</td>\n",
              "      <td>0</td>\n",
              "      <td>brass picture movie fit word really somewhat b...</td>\n",
              "    </tr>\n",
              "  </tbody>\n",
              "</table>\n",
              "</div>"
            ],
            "text/plain": [
              "                                              review  label  \\\n",
              "0  Once again Mr. Costner has dragged out a movie...      0   \n",
              "1  This is an example of why the majority of acti...      0   \n",
              "2  First of all I hate those moronic rappers, who...      0   \n",
              "3  Not even the Beatles could write songs everyon...      0   \n",
              "4  Brass pictures (movies is not a fitting word f...      0   \n",
              "\n",
              "                                    processed_review  \n",
              "0  mr costner ha drag movie far longer necessary ...  \n",
              "1  example majority action film generic bore real...  \n",
              "2  first hate moronic rapper couldnt act gun pres...  \n",
              "3  even beatles could write song everyone like al...  \n",
              "4  brass picture movie fit word really somewhat b...  "
            ]
          },
          "execution_count": 10,
          "metadata": {},
          "output_type": "execute_result"
        }
      ],
      "source": [
        "df['processed_review'] = df.review.apply(lambda x: clean_text(x))\n",
        "df.head()"
      ]
    },
    {
      "cell_type": "code",
      "execution_count": 11,
      "id": "c8bf0d77",
      "metadata": {},
      "outputs": [
        {
          "data": {
            "text/plain": [
              "127.99056"
            ]
          },
          "execution_count": 11,
          "metadata": {},
          "output_type": "execute_result"
        }
      ],
      "source": [
        "df = df.drop(['review'], axis=1)\n",
        "df.processed_review.apply(lambda x: len(x.split(\" \"))).mean()"
      ]
    },
    {
      "cell_type": "code",
      "execution_count": 12,
      "id": "9c393665",
      "metadata": {},
      "outputs": [
        {
          "name": "stdout",
          "output_type": "stream",
          "text": [
            "len of train:  30000\n",
            "len of val:  20000\n"
          ]
        }
      ],
      "source": [
        "val_frac = 0.4\n",
        "val_split_idx = int(len(df)*val_frac) #index on which to split\n",
        "data_idx = list(range(len(df))) #create a list of ints till len of data\n",
        "np.random.shuffle(data_idx)\n",
        "\n",
        "val_idx, train_idx = data_idx[:val_split_idx], data_idx[val_split_idx:]\n",
        "print('len of train: ', len(train_idx))\n",
        "print('len of val: ', len(val_idx))\n",
        "\n",
        "train = df.iloc[train_idx].reset_index().drop('index',axis=1)\n",
        "test = df.iloc[val_idx].reset_index().drop('index',axis=1)"
      ]
    },
    {
      "cell_type": "code",
      "execution_count": 13,
      "id": "d809fcc8",
      "metadata": {},
      "outputs": [
        {
          "data": {
            "text/html": [
              "<div>\n",
              "<style scoped>\n",
              "    .dataframe tbody tr th:only-of-type {\n",
              "        vertical-align: middle;\n",
              "    }\n",
              "\n",
              "    .dataframe tbody tr th {\n",
              "        vertical-align: top;\n",
              "    }\n",
              "\n",
              "    .dataframe thead th {\n",
              "        text-align: right;\n",
              "    }\n",
              "</style>\n",
              "<table border=\"1\" class=\"dataframe\">\n",
              "  <thead>\n",
              "    <tr style=\"text-align: right;\">\n",
              "      <th></th>\n",
              "      <th>label</th>\n",
              "      <th>processed_review</th>\n",
              "    </tr>\n",
              "  </thead>\n",
              "  <tbody>\n",
              "    <tr>\n",
              "      <th>0</th>\n",
              "      <td>1</td>\n",
              "      <td>order pull job like caper rififi eg score opin...</td>\n",
              "    </tr>\n",
              "    <tr>\n",
              "      <th>1</th>\n",
              "      <td>0</td>\n",
              "      <td>time get psycho toy maker name joe petto get m...</td>\n",
              "    </tr>\n",
              "    <tr>\n",
              "      <th>2</th>\n",
              "      <td>0</td>\n",
              "      <td>group cavers sad history take author hairy adv...</td>\n",
              "    </tr>\n",
              "    <tr>\n",
              "      <th>3</th>\n",
              "      <td>0</td>\n",
              "      <td>love first little mermaid know song love chara...</td>\n",
              "    </tr>\n",
              "    <tr>\n",
              "      <th>4</th>\n",
              "      <td>1</td>\n",
              "      <td>better typical madefortv movie invitation hell...</td>\n",
              "    </tr>\n",
              "  </tbody>\n",
              "</table>\n",
              "</div>"
            ],
            "text/plain": [
              "   label                                   processed_review\n",
              "0      1  order pull job like caper rififi eg score opin...\n",
              "1      0  time get psycho toy maker name joe petto get m...\n",
              "2      0  group cavers sad history take author hairy adv...\n",
              "3      0  love first little mermaid know song love chara...\n",
              "4      1  better typical madefortv movie invitation hell..."
            ]
          },
          "execution_count": 13,
          "metadata": {},
          "output_type": "execute_result"
        }
      ],
      "source": [
        "train.head()"
      ]
    },
    {
      "cell_type": "code",
      "execution_count": 14,
      "id": "8c63ec56",
      "metadata": {},
      "outputs": [],
      "source": [
        "from torchdata.datapipes.iter import IterableWrapper, Mapper, ShardingFilter\n",
        "train_set = IterableWrapper(list(map(tuple, train.to_numpy())))\n",
        "test_set = IterableWrapper(list(map(tuple, test.to_numpy())))\n",
        "\n",
        "train_iter = ShardingFilter(train_set)\n",
        "test_iter = ShardingFilter(test_set)"
      ]
    },
    {
      "cell_type": "code",
      "execution_count": 15,
      "id": "ce982af3",
      "metadata": {},
      "outputs": [],
      "source": [
        "#from torchtext.datasets import IMDB\n",
        "\n",
        "#train_iter, test_iter = IMDB()"
      ]
    },
    {
      "cell_type": "code",
      "execution_count": 16,
      "id": "a846a02b",
      "metadata": {},
      "outputs": [
        {
          "data": {
            "text/plain": [
              "torch.utils.data.datapipes.iter.sharding.ShardingFilterIterDataPipe"
            ]
          },
          "execution_count": 16,
          "metadata": {},
          "output_type": "execute_result"
        }
      ],
      "source": [
        "type(train_iter)"
      ]
    },
    {
      "cell_type": "code",
      "execution_count": 17,
      "id": "3caf73b8",
      "metadata": {},
      "outputs": [],
      "source": [
        "from torchtext.data import get_tokenizer\n",
        "from torchtext.vocab import build_vocab_from_iterator\n",
        "\n",
        "tokenizer = get_tokenizer(\"basic_english\")\n",
        "\n",
        "def build_vocabulary(datasets):\n",
        "    for dataset in datasets:\n",
        "        for _, text in dataset:\n",
        "            yield tokenizer(text)\n",
        "\n",
        "vocab = build_vocab_from_iterator(build_vocabulary([train_iter]), min_freq=3, specials=[\"<UNK>\"])\n",
        "#vocab = build_vocab_from_iterator(build_vocabulary([train_iter, test_iter]), min_freq=10, specials=[\"<UNK>\"])\n",
        "\n",
        "vocab.set_default_index(vocab[\"<UNK>\"])"
      ]
    },
    {
      "cell_type": "code",
      "execution_count": 18,
      "id": "601b22b0",
      "metadata": {},
      "outputs": [],
      "source": [
        "def save_vocab(vocab):\n",
        "    import pickle\n",
        "    output = open('vocab.pkl', 'wb')\n",
        "    pickle.dump(vocab, output)\n",
        "    output.close()\n",
        "\n",
        "save_vocab(vocab)"
      ]
    },
    {
      "cell_type": "code",
      "execution_count": 19,
      "id": "1fa11124",
      "metadata": {},
      "outputs": [
        {
          "data": {
            "text/plain": [
              "39642"
            ]
          },
          "execution_count": 19,
          "metadata": {},
          "output_type": "execute_result"
        }
      ],
      "source": [
        "len(vocab)"
      ]
    },
    {
      "cell_type": "code",
      "execution_count": 20,
      "id": "0615bbaf",
      "metadata": {},
      "outputs": [],
      "source": [
        "from torch.utils.data import DataLoader\n",
        "from torchtext.data.functional import to_map_style_dataset\n",
        "\n",
        "train_dataset, test_dataset  = to_map_style_dataset(train_iter), to_map_style_dataset(test_iter)\n",
        "\n",
        "target_classes = [\"negative\", \"positive\"]\n",
        "\n",
        "max_words = 150"
      ]
    },
    {
      "cell_type": "code",
      "execution_count": 21,
      "id": "bb5c694d",
      "metadata": {},
      "outputs": [
        {
          "data": {
            "text/plain": [
              "(0,\n",
              " 'love first little mermaid know song love character love story cant say anything like little mermaid ii return sea wa terrible let start story plot wa reverse copy first movie situation except reverse ariel want live land daughter melody creative name want live sea ariel wa trick ursula melody trick ursulas sister morgana ursula sister sure come besides strange copy first movie movie plot seem tire wa uninteresting compare first movie character 1 ariel happen longer spunky, headstrong teenager know love first movie, ha \"grown up\" personality go drain. sing voice strong either, due either jodi benson lot older, song terrible talent wa wasted. 2. prince eric- lot personality first movie, like disney princes, somehow new voice line make even robotic. top off, can\\'t seem defend himself, ariel become tough one two. 3. sebastian- say goodbye lovable crustacean first movie, whiny, aggravate little crab take place. also good song movie. almost forget glory earn sing incredible \"under sea\" \"kiss girl\" first movie, sad. 4. flounder- destroy him!! cute anymore, voice terrible, ha kid now?? who\\'s mother??? 5. morgana- appear ursula\\'s sister revenge mother, always pick ursula her. plan get king triton\\'s trident become new ruler sea. sound familiar? anyway, clichã© villain fall short ursula\\'s greatness villain. epically fail witchcraft, tough, threaten all. 6.melody- ariel eric\\'s daughter. ironic name she, unlike ariel, can\\'t sing. voice annoying, friend (a walrus penguin?? really?!) funny likable, exactly ariel, reverse likable. skip one. watch disney sequel except lion king 2. movie butcher classic life pleasant memories. look back movie laugh.')"
            ]
          },
          "execution_count": 21,
          "metadata": {},
          "output_type": "execute_result"
        }
      ],
      "source": [
        "train_dataset[3]"
      ]
    },
    {
      "cell_type": "code",
      "execution_count": 22,
      "id": "cd07782f",
      "metadata": {},
      "outputs": [
        {
          "data": {
            "text/plain": [
              "(0,\n",
              " 'watch hop find something didnt know modern history infamous man couldnt help think history ha rewrite hitlerthe rise evil  hitler wa obsess niece threaten one admirer shoot  hitler turn gun hand arrest ernst rohm  forgive ask havent writer confuse adolph hitler tony montana scarface  thats bad enough really offend wa entire chunk historical context miss mini series  germany lose first world war ally power make germany pay heavy price wa economic environment lead german people someone  anyone  restore pride thats turn nazism  german humiliation 1920s cause ally power seem entirely miss therefore way hitlerthe rise evil take seriously historical document havent even mention himmler goering conspicous absence br br one positive point mini series thats robert carlyle title role  okay mannerism wrong voice little loud  archive record show hitler soft seductive voice  carlyle charismatic actor doe manage communicate hitler charisma screen . comment british press carlyle resemble synth player spark adolph hitler unfounded give one better interpretation hitler.<br /><br />i like performance robert carlyle hat everything else mini series wonder earth wa make first place . there`s nothing recommend serious history fan')"
            ]
          },
          "execution_count": 22,
          "metadata": {},
          "output_type": "execute_result"
        }
      ],
      "source": [
        "train_dataset[10000]"
      ]
    },
    {
      "cell_type": "code",
      "execution_count": 23,
      "id": "a1771549",
      "metadata": {},
      "outputs": [],
      "source": [
        "def vectorize_batch(batch):\n",
        "    Y, X = list(zip(*batch))\n",
        "    X = [vocab(tokenizer(text)) for text in X]\n",
        "    X = [tokens+([0]* (max_words-len(tokens))) if len(tokens)<max_words else tokens[:max_words] for tokens in X] \n",
        "\n",
        "    return torch.tensor(X, dtype=torch.int32).to(device), (torch.tensor(Y)).to(device) \n",
        "\n",
        "batch_size = 512 \n",
        "train_loader = DataLoader(train_dataset, batch_size=batch_size, collate_fn=vectorize_batch, shuffle=True)\n",
        "test_loader  = DataLoader(test_dataset , batch_size=batch_size, collate_fn=vectorize_batch)"
      ]
    },
    {
      "cell_type": "code",
      "execution_count": 24,
      "id": "43cf1b89",
      "metadata": {},
      "outputs": [
        {
          "data": {
            "text/plain": [
              "<torchtext.data.functional.to_map_style_dataset.<locals>._MapStyleDataset at 0x2caa684b550>"
            ]
          },
          "execution_count": 24,
          "metadata": {},
          "output_type": "execute_result"
        }
      ],
      "source": [
        "train_dataset"
      ]
    },
    {
      "cell_type": "code",
      "execution_count": 25,
      "id": "44653edf",
      "metadata": {},
      "outputs": [],
      "source": [
        "def get_n_params(model):\n",
        "    pp=0\n",
        "    for p in list(model.parameters()):\n",
        "        nn=1\n",
        "        for s in list(p.size()):\n",
        "            nn = nn*s\n",
        "        pp += nn\n",
        "    return pp"
      ]
    },
    {
      "cell_type": "code",
      "execution_count": 26,
      "id": "2bc5eeec",
      "metadata": {},
      "outputs": [],
      "source": [
        "import torch.nn as nn\n",
        "import torch.nn.functional as F\n",
        "from torch import flatten"
      ]
    },
    {
      "cell_type": "code",
      "execution_count": 49,
      "id": "ea61e48b",
      "metadata": {},
      "outputs": [],
      "source": [
        "from tqdm import tqdm\n",
        "from sklearn.metrics import accuracy_score\n",
        "import gc\n",
        "from sklearn.metrics import accuracy_score, classification_report, confusion_matrix\n",
        "\n",
        "def CalcValLossAndAccuracy(model, loss_fn, val_loader):\n",
        "    with torch.no_grad():\n",
        "        Y_shuffled, Y_preds, losses = [],[],[]\n",
        "        for X, Y in val_loader:\n",
        "            preds = model(X)\n",
        "            loss = loss_fn(preds, Y)\n",
        "            losses.append(loss.item())\n",
        "\n",
        "            Y_shuffled.append(Y)\n",
        "            Y_preds.append(preds.argmax(dim=-1))\n",
        "\n",
        "        Y_shuffled = torch.cat(Y_shuffled)\n",
        "        Y_preds = torch.cat(Y_preds)\n",
        "\n",
        "        print(\"Test Loss  : {:.3f}\".format(torch.tensor(losses).mean()))\n",
        "        print(\"Test Acc   : {:.3f}\\n\".format(accuracy_score(Y_shuffled.detach().cpu().numpy(), Y_preds.detach().cpu().numpy())))\n",
        "\n",
        "def train_model(model, loss_fn, optimizer, train_loader, test_loader, epochs=10, test=False):\n",
        "    for i in range(1, epochs+1):\n",
        "        losses = []\n",
        "        #for X, Y in tqdm(train_loader):\n",
        "        for X, Y in train_loader:\n",
        "            Y_preds = model(X)\n",
        "\n",
        "            loss = loss_fn(Y_preds, Y)\n",
        "            losses.append(loss.item())\n",
        "\n",
        "            optimizer.zero_grad()\n",
        "            loss.backward()\n",
        "            optimizer.step()\n",
        "        print(\"Train Loss : {:.3f}\".format(torch.tensor(losses).mean()))\n",
        "        if test:\n",
        "            CalcValLossAndAccuracy(model, loss_fn, test_loader)\n",
        "\n",
        "def MakePredictions(model, loader):\n",
        "    Y_shuffled, Y_preds = [], []\n",
        "    with torch.no_grad():\n",
        "        for X, Y in loader:\n",
        "            preds = model(X)\n",
        "            Y_preds.append(preds)\n",
        "            Y_shuffled.append(Y)\n",
        "        gc.collect()\n",
        "    Y_preds, Y_shuffled = torch.cat(Y_preds), torch.cat(Y_shuffled)\n",
        "\n",
        "    return Y_shuffled.detach().cpu().numpy(), F.softmax(Y_preds, dim=-1).argmax(dim=-1).detach().cpu().numpy()\n",
        "\n",
        "def print_results(Y_actual, Y_preds, target_names):\n",
        "    print(\"Test Accuracy : {}\".format(accuracy_score(Y_actual, Y_preds)))\n",
        "    print(\"\\nClassification Report : \")\n",
        "    print(classification_report(Y_actual, Y_preds, target_names=target_classes))\n",
        "    print(\"\\nConfusion Matrix : \")\n",
        "\n",
        "    from sklearn.metrics import confusion_matrix\n",
        "    import scikitplot as skplt\n",
        "    import matplotlib.pyplot as plt\n",
        "    import numpy as np\n",
        "\n",
        "    skplt.metrics.plot_confusion_matrix([target_classes[i] for i in Y_actual], [target_classes[i] for i in Y_preds],\n",
        "                                        normalize=True,\n",
        "                                        title=\"Confusion Matrix\",\n",
        "                                        cmap=\"Purples\",\n",
        "                                        hide_zeros=True,\n",
        "                                        figsize=(5,5)\n",
        "                                        )\n",
        "    plt.xticks(rotation=90)\n",
        "\n",
        "def save_model(model, name):\n",
        "    path = './net_'+ name +'.pth'\n",
        "    print(path)\n",
        "    torch.save(model.state_dict(), path)"
      ]
    },
    {
      "cell_type": "code",
      "execution_count": 42,
      "id": "9e501d30",
      "metadata": {},
      "outputs": [
        {
          "data": {
            "text/plain": [
              "5956502"
            ]
          },
          "execution_count": 42,
          "metadata": {},
          "output_type": "execute_result"
        }
      ],
      "source": [
        "embed_len = max_words\n",
        "hidden_dim = 50\n",
        "n_layers = 1\n",
        "\n",
        "class RNN_1(nn.Module):\n",
        "    def __init__(self):\n",
        "        super(RNN_1, self).__init__()\n",
        "        self.hidden_dim = hidden_dim\n",
        "        self.n_layers = n_layers\n",
        "\n",
        "        self.embedding_layer = nn.Embedding(num_embeddings=len(vocab), embedding_dim=embed_len)\n",
        "        self.rnn = nn.RNN(input_size=embed_len, hidden_size=hidden_dim, num_layers=n_layers, batch_first=True)\n",
        "        self.linear = nn.Linear(hidden_dim, len(target_classes))\n",
        "        self.dropout = nn.Dropout(0.25)\n",
        "        #self.hidden = torch.nn.parameter.Parameter(torch.zeros(n_layers, batch_size, self.hidden_dim, device=device))\n",
        "\n",
        "    def forward(self, X_batch):\n",
        "        embeddings = self.embedding_layer(X_batch)\n",
        "\n",
        "        output, hidden = self.rnn(embeddings, torch.randn(n_layers, len(X_batch), hidden_dim, device=device))\n",
        "        return self.linear(output[:,-1])\n",
        "    \n",
        "get_n_params(RNN_1())"
      ]
    },
    {
      "cell_type": "code",
      "execution_count": 50,
      "id": "3409e831",
      "metadata": {},
      "outputs": [
        {
          "name": "stdout",
          "output_type": "stream",
          "text": [
            "Train Loss : 0.710\n",
            "Test Loss  : 0.707\n",
            "Test Acc   : 0.503\n",
            "\n",
            "Train Loss : 0.706\n",
            "Test Loss  : 0.707\n",
            "Test Acc   : 0.498\n",
            "\n",
            "Train Loss : 0.705\n",
            "Test Loss  : 0.705\n",
            "Test Acc   : 0.500\n",
            "\n",
            "Train Loss : 0.704\n",
            "Test Loss  : 0.705\n",
            "Test Acc   : 0.499\n",
            "\n",
            "Train Loss : 0.703\n",
            "Test Loss  : 0.705\n",
            "Test Acc   : 0.501\n",
            "\n",
            "Train Loss : 0.701\n",
            "Test Loss  : 0.703\n",
            "Test Acc   : 0.500\n",
            "\n",
            "Train Loss : 0.701\n",
            "Test Loss  : 0.702\n",
            "Test Acc   : 0.504\n",
            "\n",
            "Train Loss : 0.699\n",
            "Test Loss  : 0.701\n",
            "Test Acc   : 0.498\n",
            "\n",
            "Train Loss : 0.699\n",
            "Test Loss  : 0.701\n",
            "Test Acc   : 0.497\n",
            "\n",
            "Train Loss : 0.699\n",
            "Test Loss  : 0.700\n",
            "Test Acc   : 0.502\n",
            "\n",
            "./net_rnn_simple.pth\n",
            "Test Accuracy : 0.50145\n",
            "\n",
            "Classification Report : \n",
            "              precision    recall  f1-score   support\n",
            "\n",
            "    negative       0.50      0.51      0.50      9936\n",
            "    positive       0.50      0.49      0.50     10064\n",
            "\n",
            "    accuracy                           0.50     20000\n",
            "   macro avg       0.50      0.50      0.50     20000\n",
            "weighted avg       0.50      0.50      0.50     20000\n",
            "\n",
            "\n",
            "Confusion Matrix : \n"
          ]
        },
        {
          "data": {
            "image/png": "[encoded data removed]",
            "text/plain": [
              "<Figure size 360x360 with 2 Axes>"
            ]
          },
          "metadata": {
            "needs_background": "light"
          },
          "output_type": "display_data"
        }
      ],
      "source": [
        "from torch.optim import Adam\n",
        "\n",
        "epochs = 10\n",
        "learning_rate = 1e-3\n",
        "\n",
        "loss_fn = nn.CrossEntropyLoss()\n",
        "rnn_classifier = RNN_1().to(device)\n",
        "optimizer = Adam(rnn_classifier.parameters(), lr=learning_rate)\n",
        "\n",
        "train_model(rnn_classifier, loss_fn, optimizer, train_loader, test_loader, epochs, test=True)\n",
        "save_model(rnn_classifier, 'rnn_simple')\n",
        "gc.collect()\n",
        "torch.cuda.empty_cache()\n",
        "\n",
        "Y_actual, Y_preds = MakePredictions(rnn_classifier, test_loader)\n",
        "print_results(Y_actual, Y_preds, target_classes)"
      ]
    },
    {
      "cell_type": "code",
      "execution_count": 51,
      "id": "dbed4919",
      "metadata": {},
      "outputs": [
        {
          "data": {
            "text/plain": [
              "5956502"
            ]
          },
          "execution_count": 51,
          "metadata": {},
          "output_type": "execute_result"
        }
      ],
      "source": [
        "embed_len = max_words\n",
        "hidden_dim = 50\n",
        "n_layers=1\n",
        "\n",
        "class RNN_1(nn.Module):\n",
        "    def __init__(self):\n",
        "        super(RNN_1, self).__init__()\n",
        "        self.hidden_dim = hidden_dim\n",
        "        self.n_layers = n_layers\n",
        "\n",
        "        self.embedding_layer = nn.Embedding(num_embeddings=len(vocab), embedding_dim=embed_len)\n",
        "        self.rnn = nn.RNN(input_size=embed_len, hidden_size=hidden_dim, num_layers=n_layers, batch_first=True)\n",
        "        self.linear = nn.Linear(hidden_dim, len(target_classes))\n",
        "        self.dropout = nn.Dropout(0.25)\n",
        "        #self.hidden = torch.nn.parameter.Parameter(torch.zeros(n_layers, batch_size, self.hidden_dim, device=device))\n",
        "\n",
        "    def forward(self, X_batch):\n",
        "        embeddings = self.embedding_layer(X_batch)\n",
        "\n",
        "        output, hidden = self.rnn(embeddings, torch.randn(n_layers, len(X_batch), hidden_dim, device=device))\n",
        "        x = self.dropout(output)\n",
        "        x = self.linear(x[:,-1])\n",
        "        return x\n",
        "    \n",
        "get_n_params(RNN_1())"
      ]
    },
    {
      "cell_type": "code",
      "execution_count": 52,
      "id": "aa934f1d",
      "metadata": {},
      "outputs": [],
      "source": [
        "class Net_2(nn.Module):\n",
        "    def __init__(self):\n",
        "        super().__init__()\n",
        "        self.conv1 = nn.Conv2d(3, 10, 5)\n",
        "        self.pool = nn.MaxPool2d(2, 2) \n",
        "        self.conv2 = nn.Conv2d(10, 25, 5)  \n",
        "        self.pool = nn.MaxPool2d(2, 2) # 61, 61, 30\n",
        "        self.do1 = nn.Dropout(0.2) \n",
        "        self.fc1 = nn.Linear(61 * 61 * 25, 500)\n",
        "        self.do2 = nn.Dropout(0.3) \n",
        "        self.fc2 = nn.Linear(500, 2)\n",
        "        self.fc3 = nn.Softmax(dim = 1)\n",
        "\n",
        "\n",
        "    def forward(self, x):\n",
        "        x = self.pool(F.relu(self.conv1(x)))\n",
        "        x = self.pool(F.relu(self.conv2(x)))\n",
        "        x = self.do1(x)\n",
        "        x = torch.flatten(x, 1)\n",
        "        x = F.relu(self.fc1(x))\n",
        "        x = self.do2(x)\n",
        "        x = self.fc2(x)\n",
        "        x = self.fc3(x)\n",
        "        return x"
      ]
    },
    {
      "cell_type": "code",
      "execution_count": 53,
      "id": "84dda47e",
      "metadata": {},
      "outputs": [],
      "source": [
        "class Net_3(nn.Module):\n",
        "    def __init__(self):\n",
        "        super().__init__()\n",
        "        self.conv1 = nn.Conv2d(3, 10, 5) # 252, 252, 10\n",
        "        self.conv2 = nn.Conv2d(10, 10, 5) # 248, 248, 10\n",
        "        self.pool = nn.MaxPool2d(2, 2) # 124, 124, 10\n",
        "        self.conv3 = nn.Conv2d(10, 12, 5) # 120, 120, 10\n",
        "        self.pool = nn.MaxPool2d(2, 2) # 60, 60, 20\n",
        "        self.do1 = nn.Dropout(0.2) \n",
        "        self.fc1 = nn.Linear(60 * 60 * 12, 800)\n",
        "        self.do2 = nn.Dropout(0.2) \n",
        "        self.fc2 = nn.Linear(800, 80)\n",
        "        self.fc3 = nn.Linear(80, 2)\n",
        "        self.fc4 = nn.Softmax(dim = 1)\n",
        "\n",
        "    def forward(self, x):\n",
        "        x = F.relu(self.conv1(x))\n",
        "        x = self.pool(F.relu(self.conv2(x)))\n",
        "        x = self.pool(F.relu(self.conv3(x)))\n",
        "        x = self.do1(x)\n",
        "        x = torch.flatten(x, 1) \n",
        "        x = F.relu(self.fc1(x))\n",
        "        x = self.do2(x)\n",
        "        x = F.relu(self.fc2(x))\n",
        "        x = self.fc3(x)\n",
        "        x = self.fc4(x)\n",
        "        return x"
      ]
    },
    {
      "cell_type": "code",
      "execution_count": 54,
      "id": "98bd64e0",
      "metadata": {},
      "outputs": [],
      "source": [
        "class Net_4(nn.Module):\n",
        "    def __init__(self):\n",
        "        super().__init__()\n",
        "        self.conv1 = nn.Conv2d(3, 10, 5)\n",
        "        self.pool = nn.MaxPool2d(2, 2) \n",
        "        self.do1 = nn.Dropout(0.2) \n",
        "        self.fc1 = nn.Linear(158760, 500)\n",
        "        self.do2 = nn.Dropout(0.3) \n",
        "        self.fc2 = nn.Linear(500, 200)\n",
        "        self.do3 = nn.Dropout(0.2) \n",
        "        self.fc3 = nn.Linear(200, 100)\n",
        "        self.do4 = nn.Dropout(0.2) \n",
        "        self.fc4 = nn.Linear(100, 2)\n",
        "        self.fc5 = nn.Softmax(dim = 1)\n",
        "\n",
        "    def forward(self, x):\n",
        "        x = self.pool(F.relu(self.conv1(x)))\n",
        "        x = self.do1(x)\n",
        "        x = torch.flatten(x, 1)\n",
        "        x = F.relu(self.fc1(x))\n",
        "        x = self.do2(x)\n",
        "        x = F.relu(self.fc2(x))\n",
        "        x = self.do3(x)\n",
        "        x = F.relu(self.fc3(x))\n",
        "        x = self.do4(x) \n",
        "        x = self.fc4(x)\n",
        "        x = self.fc5(x)\n",
        "        \n",
        "        return x"
      ]
    },
    {
      "cell_type": "code",
      "execution_count": 55,
      "id": "8b70ac42",
      "metadata": {},
      "outputs": [
        {
          "ename": "NameError",
          "evalue": "name 'Net_1' is not defined",
          "output_type": "error",
          "traceback": [
            "\u001b[1;31m---------------------------------------------------------------------------\u001b[0m",
            "\u001b[1;31mNameError\u001b[0m                                 Traceback (most recent call last)",
            "\u001b[1;32md:\\Work\\Study\\15. NN\\lab2\\lab2_1.ipynb Cell 33\u001b[0m in \u001b[0;36m<cell line: 2>\u001b[1;34m()\u001b[0m\n\u001b[0;32m      <a href='vscode-notebook-cell:/d%3A/Work/Study/15.%20NN/lab2/lab2_1.ipynb#X44sZmlsZQ%3D%3D?line=0'>1</a>\u001b[0m nets \u001b[39m=\u001b[39m [] \n\u001b[1;32m----> <a href='vscode-notebook-cell:/d%3A/Work/Study/15.%20NN/lab2/lab2_1.ipynb#X44sZmlsZQ%3D%3D?line=1'>2</a>\u001b[0m nets\u001b[39m.\u001b[39mappend(Net_1())\n\u001b[0;32m      <a href='vscode-notebook-cell:/d%3A/Work/Study/15.%20NN/lab2/lab2_1.ipynb#X44sZmlsZQ%3D%3D?line=2'>3</a>\u001b[0m nets\u001b[39m.\u001b[39mappend(Net_2())\n\u001b[0;32m      <a href='vscode-notebook-cell:/d%3A/Work/Study/15.%20NN/lab2/lab2_1.ipynb#X44sZmlsZQ%3D%3D?line=3'>4</a>\u001b[0m nets\u001b[39m.\u001b[39mappend(Net_3())\n",
            "\u001b[1;31mNameError\u001b[0m: name 'Net_1' is not defined"
          ]
        }
      ],
      "source": [
        "nets = [] \n",
        "nets.append(Net_1())\n",
        "nets.append(Net_2())\n",
        "nets.append(Net_3())\n",
        "nets.append(Net_4())"
      ]
    },
    {
      "cell_type": "code",
      "execution_count": null,
      "id": "4a2d538d",
      "metadata": {},
      "outputs": [],
      "source": [
        "def get_n_params(model):\n",
        "    pp=0\n",
        "    for p in list(model.parameters()):\n",
        "        nn=1\n",
        "        for s in list(p.size()):\n",
        "            nn = nn*s\n",
        "        pp += nn\n",
        "    return pp"
      ]
    },
    {
      "cell_type": "code",
      "execution_count": null,
      "id": "a2ca8923",
      "metadata": {
        "id": "a2ca8923"
      },
      "outputs": [],
      "source": [
        "import torch.optim as optim\n",
        "criterion = nn.CrossEntropyLoss()"
      ]
    },
    {
      "cell_type": "code",
      "execution_count": null,
      "id": "d6eb9589",
      "metadata": {
        "colab": {
          "base_uri": "https://localhost:8080/"
        },
        "id": "d6eb9589",
        "outputId": "30438c88-b6ac-45ec-a0a4-e9fa472b2c78"
      },
      "outputs": [],
      "source": [
        "for i, net in enumerate(nets):\n",
        "    print(f'---- net {i} ----')\n",
        "    print(type(net))\n",
        "    optimizer = optim.SGD(net.parameters(), lr=0.001, momentum=0.9)\n",
        "\n",
        "    for epoch in range(4): \n",
        "        running_loss = 0.0\n",
        "        for j, data in enumerate(train_loader, 0):\n",
        "            inputs, labels = data\n",
        "\n",
        "            optimizer.zero_grad()\n",
        "\n",
        "            outputs = net(inputs)\n",
        "            loss = criterion(outputs, labels)\n",
        "            loss.backward()\n",
        "            optimizer.step()\n",
        "\n",
        "            running_loss += loss.item()\n",
        "            if j % 30 == 29: \n",
        "                print(f'[{epoch + 1}, {j + 1:5d}] loss: {running_loss / 10:.3f}')\n",
        "                running_loss = 0.0\n",
        "    print('Finished Training')\n",
        "\n",
        "    #Сохранение нашей модели\n",
        "    path = './cats_net_'+ str(i) +'.pth'\n",
        "    print(path)\n",
        "    torch.save(net.state_dict(), path)\n",
        "\n",
        "    dataiter = iter(test_loader)\n",
        "    images, labels = next(dataiter)\n",
        "    outputs = net(images)\n",
        "\n",
        "    correct = 0\n",
        "    total = 0\n",
        "    with torch.no_grad():\n",
        "        for data in test_loader:\n",
        "            images, labels = data\n",
        "            outputs = net(images)\n",
        "            _, predicted = torch.max(outputs.data, 1)\n",
        "            total += labels.size(0)\n",
        "            correct += (predicted == labels).sum().item()\n",
        "\n",
        "    print(f'Accuracy of the network on the {test_len} test images: {100 * correct // total} %')\n",
        "\n",
        "    correct_pred = {classname: 0 for classname in classes}\n",
        "    total_pred = {classname: 0 for classname in classes}\n",
        "\n",
        "    with torch.no_grad():\n",
        "        for data in test_loader:\n",
        "            images, labels = data\n",
        "            outputs = net(images)\n",
        "            _, predictions = torch.max(outputs, 1)\n",
        "            for label, prediction in zip(labels, predictions):\n",
        "                if label == prediction:\n",
        "                    correct_pred[classes[label]] += 1\n",
        "                total_pred[classes[label]] += 1\n",
        "\n",
        "    for classname, correct_count in correct_pred.items():\n",
        "        accuracy = 100 * float(correct_count) / total_pred[classname]\n",
        "        print(f'Accuracy for class: {classname:5s} is {accuracy:.1f} %')\n",
        "\n",
        "    param_count = get_n_params(net)\n",
        "    print(f'Model size: {param_count} parametres')"
      ]
    },
    {
      "cell_type": "code",
      "execution_count": null,
      "id": "5a7d2fd8",
      "metadata": {},
      "outputs": [],
      "source": [
        "nets = []\n",
        "net_1 = Net_1()\n",
        "net_1.load_state_dict(torch.load('cats_net_0.pth'))\n",
        "nets.append(net_1)\n",
        "net_2 = Net_2()\n",
        "net_2.load_state_dict(torch.load('cats_net_1.pth'))\n",
        "nets.append(net_2)\n",
        "net_3 = Net_3()\n",
        "net_3.load_state_dict(torch.load('cats_net_2.pth'))\n",
        "nets.append(net_3)\n",
        "net_4 = Net_4()\n",
        "net_4.load_state_dict(torch.load('cats_net_3.pth'))\n",
        "nets.append(net_4)"
      ]
    },
    {
      "cell_type": "code",
      "execution_count": null,
      "id": "c2a1f4f8",
      "metadata": {},
      "outputs": [],
      "source": [
        "from PIL import Image\n",
        "def image_loader(image_name):\n",
        "    tf_eval = transforms.Compose([\n",
        "    transforms.Resize(256), \n",
        "    transforms.CenterCrop(256),\n",
        "    transforms.ToTensor(),\n",
        "    transforms.Normalize(mean=[0.485, 0.456, 0.406],\n",
        "                        std=[0.229, 0.224, 0.225])\n",
        "    ])\n",
        "    image = Image.open(image_name)\n",
        "    image = tf_eval(image).unsqueeze(0)\n",
        "    return image"
      ]
    },
    {
      "cell_type": "code",
      "execution_count": null,
      "id": "35181994",
      "metadata": {},
      "outputs": [],
      "source": [
        "plt.imshow(Image.open('./lastik_example.jpg')), plt.xticks([]), plt.yticks([])"
      ]
    },
    {
      "cell_type": "code",
      "execution_count": null,
      "id": "3c06cf40",
      "metadata": {},
      "outputs": [],
      "source": [
        "image = image_loader('./lastik_example.jpg')"
      ]
    },
    {
      "cell_type": "code",
      "execution_count": null,
      "id": "71dcedfa",
      "metadata": {},
      "outputs": [],
      "source": [
        "import torchvision.transforms as transforms\n",
        "import torchvision.datasets as datasets\n",
        "from torch.utils.data import DataLoader, Dataset\n",
        "from PIL import Image\n",
        "import matplotlib.pyplot as plt\n",
        "import numpy as np\n",
        "def pre_image(image, model, classes):\n",
        "   with torch.no_grad():\n",
        "      model.eval()  \n",
        "      output = model(image)\n",
        "      index = output.data.cpu().numpy().argmax()\n",
        "      class_name = classes[index]\n",
        "      return class_name"
      ]
    },
    {
      "cell_type": "code",
      "execution_count": null,
      "id": "c9ad4bdd",
      "metadata": {},
      "outputs": [],
      "source": [
        "for i, net in enumerate(nets):\n",
        "    print(f\"Net {i} says it's {pre_image(image, net, db.classes)}\")"
      ]
    }
  ],
  "metadata": {
    "accelerator": "GPU",
    "colab": {
      "provenance": []
    },
    "gpuClass": "standard",
    "kernelspec": {
      "display_name": "base",
      "language": "python",
      "name": "python3"
    },
    "language_info": {
      "codemirror_mode": {
        "name": "ipython",
        "version": 3
      },
      "file_extension": ".py",
      "mimetype": "text/x-python",
      "name": "python",
      "nbconvert_exporter": "python",
      "pygments_lexer": "ipython3",
      "version": "3.9.12"
    },
    "vscode": {
      "interpreter": {
        "hash": "4adb2b3a86768c0ab9c68d017220c97866613aeca6db1d74ccc533002803c558"
      }
    },
    "widgets": {
      "application/vnd.jupyter.widget-state+json": {
        "006b68923f6c4ed6abf97a717eae68ab": {
          "model_module": "@jupyter-widgets/base",
          "model_module_version": "1.2.0",
          "model_name": "LayoutModel",
          "state": {
            "_model_module": "@jupyter-widgets/base",
            "_model_module_version": "1.2.0",
            "_model_name": "LayoutModel",
            "_view_count": null,
            "_view_module": "@jupyter-widgets/base",
            "_view_module_version": "1.2.0",
            "_view_name": "LayoutView",
            "align_content": null,
            "align_items": null,
            "align_self": null,
            "border": null,
            "bottom": null,
            "display": null,
            "flex": null,
            "flex_flow": null,
            "grid_area": null,
            "grid_auto_columns": null,
            "grid_auto_flow": null,
            "grid_auto_rows": null,
            "grid_column": null,
            "grid_gap": null,
            "grid_row": null,
            "grid_template_areas": null,
            "grid_template_columns": null,
            "grid_template_rows": null,
            "height": null,
            "justify_content": null,
            "justify_items": null,
            "left": null,
            "margin": null,
            "max_height": null,
            "max_width": null,
            "min_height": null,
            "min_width": null,
            "object_fit": null,
            "object_position": null,
            "order": null,
            "overflow": null,
            "overflow_x": null,
            "overflow_y": null,
            "padding": null,
            "right": null,
            "top": null,
            "visibility": null,
            "width": null
          }
        },
        "13db09b7d5f24cbc82eb6bb4a7e2b04d": {
          "model_module": "@jupyter-widgets/controls",
          "model_module_version": "1.5.0",
          "model_name": "FloatProgressModel",
          "state": {
            "_dom_classes": [],
            "_model_module": "@jupyter-widgets/controls",
            "_model_module_version": "1.5.0",
            "_model_name": "FloatProgressModel",
            "_view_count": null,
            "_view_module": "@jupyter-widgets/controls",
            "_view_module_version": "1.5.0",
            "_view_name": "ProgressView",
            "bar_style": "success",
            "description": "",
            "description_tooltip": null,
            "layout": "IPY_MODEL_fe780edc9b174e5a8fb91a6272b4ecc1",
            "max": 170498071,
            "min": 0,
            "orientation": "horizontal",
            "style": "IPY_MODEL_5b92f21e071d4887bd491b55dc3c09e4",
            "value": 170498071
          }
        },
        "29acf99c6faf488d9e6b7492ead45986": {
          "model_module": "@jupyter-widgets/base",
          "model_module_version": "1.2.0",
          "model_name": "LayoutModel",
          "state": {
            "_model_module": "@jupyter-widgets/base",
            "_model_module_version": "1.2.0",
            "_model_name": "LayoutModel",
            "_view_count": null,
            "_view_module": "@jupyter-widgets/base",
            "_view_module_version": "1.2.0",
            "_view_name": "LayoutView",
            "align_content": null,
            "align_items": null,
            "align_self": null,
            "border": null,
            "bottom": null,
            "display": null,
            "flex": null,
            "flex_flow": null,
            "grid_area": null,
            "grid_auto_columns": null,
            "grid_auto_flow": null,
            "grid_auto_rows": null,
            "grid_column": null,
            "grid_gap": null,
            "grid_row": null,
            "grid_template_areas": null,
            "grid_template_columns": null,
            "grid_template_rows": null,
            "height": null,
            "justify_content": null,
            "justify_items": null,
            "left": null,
            "margin": null,
            "max_height": null,
            "max_width": null,
            "min_height": null,
            "min_width": null,
            "object_fit": null,
            "object_position": null,
            "order": null,
            "overflow": null,
            "overflow_x": null,
            "overflow_y": null,
            "padding": null,
            "right": null,
            "top": null,
            "visibility": null,
            "width": null
          }
        },
        "2f636d53c03440a6a47b2dafcfd8886f": {
          "model_module": "@jupyter-widgets/controls",
          "model_module_version": "1.5.0",
          "model_name": "DescriptionStyleModel",
          "state": {
            "_model_module": "@jupyter-widgets/controls",
            "_model_module_version": "1.5.0",
            "_model_name": "DescriptionStyleModel",
            "_view_count": null,
            "_view_module": "@jupyter-widgets/base",
            "_view_module_version": "1.2.0",
            "_view_name": "StyleView",
            "description_width": ""
          }
        },
        "5aeea86d346c49a9a070efeb746c15c3": {
          "model_module": "@jupyter-widgets/controls",
          "model_module_version": "1.5.0",
          "model_name": "HBoxModel",
          "state": {
            "_dom_classes": [],
            "_model_module": "@jupyter-widgets/controls",
            "_model_module_version": "1.5.0",
            "_model_name": "HBoxModel",
            "_view_count": null,
            "_view_module": "@jupyter-widgets/controls",
            "_view_module_version": "1.5.0",
            "_view_name": "HBoxView",
            "box_style": "",
            "children": [
              "IPY_MODEL_fcdd0995425442de83aedc6c157396f9",
              "IPY_MODEL_13db09b7d5f24cbc82eb6bb4a7e2b04d",
              "IPY_MODEL_eda4571c6119464896cda99e85841e46"
            ],
            "layout": "IPY_MODEL_cf94e662f9114e6eac24ccc6b671efad"
          }
        },
        "5b92f21e071d4887bd491b55dc3c09e4": {
          "model_module": "@jupyter-widgets/controls",
          "model_module_version": "1.5.0",
          "model_name": "ProgressStyleModel",
          "state": {
            "_model_module": "@jupyter-widgets/controls",
            "_model_module_version": "1.5.0",
            "_model_name": "ProgressStyleModel",
            "_view_count": null,
            "_view_module": "@jupyter-widgets/base",
            "_view_module_version": "1.2.0",
            "_view_name": "StyleView",
            "bar_color": null,
            "description_width": ""
          }
        },
        "c967b526ebda48fb98be888e61843fc9": {
          "model_module": "@jupyter-widgets/controls",
          "model_module_version": "1.5.0",
          "model_name": "DescriptionStyleModel",
          "state": {
            "_model_module": "@jupyter-widgets/controls",
            "_model_module_version": "1.5.0",
            "_model_name": "DescriptionStyleModel",
            "_view_count": null,
            "_view_module": "@jupyter-widgets/base",
            "_view_module_version": "1.2.0",
            "_view_name": "StyleView",
            "description_width": ""
          }
        },
        "cf94e662f9114e6eac24ccc6b671efad": {
          "model_module": "@jupyter-widgets/base",
          "model_module_version": "1.2.0",
          "model_name": "LayoutModel",
          "state": {
            "_model_module": "@jupyter-widgets/base",
            "_model_module_version": "1.2.0",
            "_model_name": "LayoutModel",
            "_view_count": null,
            "_view_module": "@jupyter-widgets/base",
            "_view_module_version": "1.2.0",
            "_view_name": "LayoutView",
            "align_content": null,
            "align_items": null,
            "align_self": null,
            "border": null,
            "bottom": null,
            "display": null,
            "flex": null,
            "flex_flow": null,
            "grid_area": null,
            "grid_auto_columns": null,
            "grid_auto_flow": null,
            "grid_auto_rows": null,
            "grid_column": null,
            "grid_gap": null,
            "grid_row": null,
            "grid_template_areas": null,
            "grid_template_columns": null,
            "grid_template_rows": null,
            "height": null,
            "justify_content": null,
            "justify_items": null,
            "left": null,
            "margin": null,
            "max_height": null,
            "max_width": null,
            "min_height": null,
            "min_width": null,
            "object_fit": null,
            "object_position": null,
            "order": null,
            "overflow": null,
            "overflow_x": null,
            "overflow_y": null,
            "padding": null,
            "right": null,
            "top": null,
            "visibility": null,
            "width": null
          }
        },
        "eda4571c6119464896cda99e85841e46": {
          "model_module": "@jupyter-widgets/controls",
          "model_module_version": "1.5.0",
          "model_name": "HTMLModel",
          "state": {
            "_dom_classes": [],
            "_model_module": "@jupyter-widgets/controls",
            "_model_module_version": "1.5.0",
            "_model_name": "HTMLModel",
            "_view_count": null,
            "_view_module": "@jupyter-widgets/controls",
            "_view_module_version": "1.5.0",
            "_view_name": "HTMLView",
            "description": "",
            "description_tooltip": null,
            "layout": "IPY_MODEL_006b68923f6c4ed6abf97a717eae68ab",
            "placeholder": "​",
            "style": "IPY_MODEL_c967b526ebda48fb98be888e61843fc9",
            "value": " 170498071/170498071 [00:52&lt;00:00, 1959295.28it/s]"
          }
        },
        "fcdd0995425442de83aedc6c157396f9": {
          "model_module": "@jupyter-widgets/controls",
          "model_module_version": "1.5.0",
          "model_name": "HTMLModel",
          "state": {
            "_dom_classes": [],
            "_model_module": "@jupyter-widgets/controls",
            "_model_module_version": "1.5.0",
            "_model_name": "HTMLModel",
            "_view_count": null,
            "_view_module": "@jupyter-widgets/controls",
            "_view_module_version": "1.5.0",
            "_view_name": "HTMLView",
            "description": "",
            "description_tooltip": null,
            "layout": "IPY_MODEL_29acf99c6faf488d9e6b7492ead45986",
            "placeholder": "​",
            "style": "IPY_MODEL_2f636d53c03440a6a47b2dafcfd8886f",
            "value": "100%"
          }
        },
        "fe780edc9b174e5a8fb91a6272b4ecc1": {
          "model_module": "@jupyter-widgets/base",
          "model_module_version": "1.2.0",
          "model_name": "LayoutModel",
          "state": {
            "_model_module": "@jupyter-widgets/base",
            "_model_module_version": "1.2.0",
            "_model_name": "LayoutModel",
            "_view_count": null,
            "_view_module": "@jupyter-widgets/base",
            "_view_module_version": "1.2.0",
            "_view_name": "LayoutView",
            "align_content": null,
            "align_items": null,
            "align_self": null,
            "border": null,
            "bottom": null,
            "display": null,
            "flex": null,
            "flex_flow": null,
            "grid_area": null,
            "grid_auto_columns": null,
            "grid_auto_flow": null,
            "grid_auto_rows": null,
            "grid_column": null,
            "grid_gap": null,
            "grid_row": null,
            "grid_template_areas": null,
            "grid_template_columns": null,
            "grid_template_rows": null,
            "height": null,
            "justify_content": null,
            "justify_items": null,
            "left": null,
            "margin": null,
            "max_height": null,
            "max_width": null,
            "min_height": null,
            "min_width": null,
            "object_fit": null,
            "object_position": null,
            "order": null,
            "overflow": null,
            "overflow_x": null,
            "overflow_y": null,
            "padding": null,
            "right": null,
            "top": null,
            "visibility": null,
            "width": null
          }
        }
      }
    }
  },
  "nbformat": 4,
  "nbformat_minor": 5
}
