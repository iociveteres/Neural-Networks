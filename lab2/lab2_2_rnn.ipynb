{
  "cells": [
    {
      "cell_type": "code",
      "execution_count": 109,
      "id": "0c984529",
      "metadata": {
        "id": "0c984529"
      },
      "outputs": [],
      "source": [
        "import torch\n",
        "import torch.cuda\n",
        "import numpy as np"
      ]
    },
    {
      "cell_type": "code",
      "execution_count": 110,
      "id": "8bdc80eb",
      "metadata": {},
      "outputs": [
        {
          "name": "stdout",
          "output_type": "stream",
          "text": [
            "Using device: cuda\n",
            "\n",
            "NVIDIA GeForce RTX 3060 Ti\n",
            "Memory Usage:\n",
            "Allocated: 0.1 GB\n",
            "Cached:    0.2 GB\n"
          ]
        }
      ],
      "source": [
        "# setting device on GPU if available, else CPU\n",
        "device = torch.device('cuda' if torch.cuda.is_available() else 'cpu') # torch.device('cpu') # \n",
        "print('Using device:', device)\n",
        "print()\n",
        "\n",
        "#Additional Info when using cuda\n",
        "if device.type == 'cuda':\n",
        "    print(torch.cuda.get_device_name(0))\n",
        "    print('Memory Usage:')\n",
        "    print('Allocated:', round(torch.cuda.memory_allocated(0)/1024**3,1), 'GB')\n",
        "    print('Cached:   ', round(torch.cuda.memory_reserved(0)/1024**3,1), 'GB')"
      ]
    },
    {
      "cell_type": "code",
      "execution_count": 111,
      "id": "f25c344d",
      "metadata": {},
      "outputs": [],
      "source": [
        "def seed_everything(seed: int):\n",
        "    import random, os\n",
        "    import numpy as np\n",
        "    import torch\n",
        "    \n",
        "    random.seed(seed)\n",
        "    os.environ['PYTHONHASHSEED'] = str(seed)\n",
        "    np.random.seed(seed)\n",
        "    torch.manual_seed(seed)\n",
        "    torch.cuda.manual_seed(seed)\n",
        "    torch.backends.cudnn.deterministic = True\n",
        "    torch.backends.cudnn.benchmark = False\n",
        "\n",
        "import random\n",
        "seed_everything(random.randint(1, 10000))"
      ]
    },
    {
      "cell_type": "code",
      "execution_count": 112,
      "id": "ce982af3",
      "metadata": {},
      "outputs": [],
      "source": [
        "import torchtext.datasets\n",
        "\n",
        "train_iter, test_iter  = torchtext.datasets.AG_NEWS()"
      ]
    },
    {
      "cell_type": "code",
      "execution_count": 113,
      "id": "3caf73b8",
      "metadata": {},
      "outputs": [
        {
          "data": {
            "text/plain": [
              "40708"
            ]
          },
          "execution_count": 113,
          "metadata": {},
          "output_type": "execute_result"
        }
      ],
      "source": [
        "from torchtext.data import get_tokenizer\n",
        "from torchtext.vocab import build_vocab_from_iterator\n",
        "\n",
        "tokenizer = get_tokenizer(\"basic_english\")\n",
        "\n",
        "def build_vocabulary(datasets):\n",
        "    for dataset in datasets:\n",
        "        for _, text in dataset:\n",
        "            yield tokenizer(text)\n",
        "\n",
        "vocab = build_vocab_from_iterator(build_vocabulary([train_iter]), min_freq=3, specials=[\"<UNK>\"])\n",
        "#vocab = build_vocab_from_iterator(build_vocabulary([train_iter, test_iter]), min_freq=10, specials=[\"<UNK>\"])\n",
        "\n",
        "vocab.set_default_index(vocab[\"<UNK>\"])\n",
        "len(vocab)"
      ]
    },
    {
      "cell_type": "code",
      "execution_count": 114,
      "id": "601b22b0",
      "metadata": {},
      "outputs": [],
      "source": [
        "def save_vocab(vocab):\n",
        "    import pickle\n",
        "    output = open('vocab.pkl', 'wb')\n",
        "    pickle.dump(vocab, output)\n",
        "    output.close()\n",
        "\n",
        "save_vocab(vocab)"
      ]
    },
    {
      "cell_type": "code",
      "execution_count": 115,
      "id": "0615bbaf",
      "metadata": {},
      "outputs": [],
      "source": [
        "from torch.utils.data import DataLoader\n",
        "from torchtext.data.functional import to_map_style_dataset\n",
        "\n",
        "train_dataset, test_dataset  = to_map_style_dataset(train_iter), to_map_style_dataset(test_iter)\n",
        "\n",
        "target_classes = [\"World\", \"Sports\", \"Business\", \"Sci/Tech\"]\n",
        "\n",
        "max_words = 50"
      ]
    },
    {
      "cell_type": "code",
      "execution_count": 116,
      "id": "bb5c694d",
      "metadata": {},
      "outputs": [
        {
          "data": {
            "text/plain": [
              "(3,\n",
              " 'Iraq Halts Oil Exports from Main Southern Pipeline (Reuters) Reuters - Authorities have halted oil export\\\\flows from the main pipeline in southern Iraq after\\\\intelligence showed a rebel militia could strike\\\\infrastructure, an oil official said on Saturday.')"
            ]
          },
          "execution_count": 116,
          "metadata": {},
          "output_type": "execute_result"
        }
      ],
      "source": [
        "train_dataset[3]"
      ]
    },
    {
      "cell_type": "code",
      "execution_count": 117,
      "id": "cd07782f",
      "metadata": {},
      "outputs": [
        {
          "data": {
            "text/plain": [
              "(1,\n",
              " 'A Daily Look at U.S. Iraq Military Deaths (AP) AP - As of Wednesday, Aug. 25, 964 U.S. service members have died since the beginning of military operations in Iraq in March 2003, according to the Defense Department. Of those, 722 died as a result of hostile action and 242 died of non-hostile causes.')"
            ]
          },
          "execution_count": 117,
          "metadata": {},
          "output_type": "execute_result"
        }
      ],
      "source": [
        "train_dataset[10000]"
      ]
    },
    {
      "cell_type": "code",
      "execution_count": 118,
      "id": "a1771549",
      "metadata": {},
      "outputs": [],
      "source": [
        "def vectorize_batch(batch):\n",
        "    Y, X = list(zip(*batch))\n",
        "    X = [vocab(tokenizer(text)) for text in X]\n",
        "    X = [tokens+([0]* (max_words-len(tokens))) if len(tokens)<max_words else tokens[:max_words] for tokens in X] \n",
        "\n",
        "    return torch.tensor(X, dtype=torch.int32).to(device), (torch.tensor(Y) - 1).to(device) \n",
        "\n",
        "batch_size = 512 \n",
        "train_loader = DataLoader(train_dataset, batch_size=batch_size, collate_fn=vectorize_batch, shuffle=True)\n",
        "test_loader  = DataLoader(test_dataset , batch_size=batch_size, collate_fn=vectorize_batch)"
      ]
    },
    {
      "cell_type": "code",
      "execution_count": 119,
      "id": "44653edf",
      "metadata": {},
      "outputs": [],
      "source": [
        "def get_n_params(model):\n",
        "    pp=0\n",
        "    for p in list(model.parameters()):\n",
        "        nn=1\n",
        "        for s in list(p.size()):\n",
        "            nn = nn*s\n",
        "        pp += nn\n",
        "    return pp"
      ]
    },
    {
      "cell_type": "code",
      "execution_count": 120,
      "id": "2bc5eeec",
      "metadata": {},
      "outputs": [],
      "source": [
        "import torch.nn as nn\n",
        "import torch.nn.functional as F\n",
        "from torch import flatten"
      ]
    },
    {
      "cell_type": "code",
      "execution_count": 121,
      "id": "ea61e48b",
      "metadata": {},
      "outputs": [],
      "source": [
        "from tqdm import tqdm\n",
        "from sklearn.metrics import accuracy_score\n",
        "import gc\n",
        "from sklearn.metrics import accuracy_score, classification_report, confusion_matrix\n",
        "\n",
        "def CalcValLossAndAccuracy(model, loss_fn, val_loader):\n",
        "    with torch.no_grad():\n",
        "        Y_shuffled, Y_preds, losses = [],[],[]\n",
        "        for X, Y in val_loader:\n",
        "            preds = model(X)\n",
        "            loss = loss_fn(preds, Y)\n",
        "            losses.append(loss.item())\n",
        "\n",
        "            Y_shuffled.append(Y)\n",
        "            Y_preds.append(preds.argmax(dim=-1))\n",
        "\n",
        "        Y_shuffled = torch.cat(Y_shuffled)\n",
        "        Y_preds = torch.cat(Y_preds)\n",
        "\n",
        "        print(\"Test Loss  : {:.3f}\".format(torch.tensor(losses).mean()))\n",
        "        print(\"Test Acc   : {:.3f}\\n\".format(accuracy_score(Y_shuffled.detach().cpu().numpy(), Y_preds.detach().cpu().numpy())))\n",
        "\n",
        "def train_model(model, loss_fn, optimizer, train_loader, test_loader, epochs=10, test=False):\n",
        "    for i in range(1, epochs + 1):\n",
        "        losses = []\n",
        "        #for X, Y in tqdm(train_loader):\n",
        "        for X, Y in train_loader:\n",
        "            Y_preds = model(X)\n",
        "\n",
        "            loss = loss_fn(Y_preds, Y)\n",
        "            losses.append(loss.item())\n",
        "\n",
        "            optimizer.zero_grad()\n",
        "            loss.backward()\n",
        "            optimizer.step()\n",
        "        print(\"Train Loss : {:.3f}\".format(torch.tensor(losses).mean()))\n",
        "        if test:\n",
        "            CalcValLossAndAccuracy(model, loss_fn, test_loader)\n",
        "\n",
        "def make_predictions(model, loader):\n",
        "    Y_shuffled, Y_preds = [], []\n",
        "    with torch.no_grad():\n",
        "        for X, Y in loader:\n",
        "            preds = model(X)\n",
        "            Y_preds.append(preds)\n",
        "            Y_shuffled.append(Y)\n",
        "        gc.collect()\n",
        "    Y_preds, Y_shuffled = torch.cat(Y_preds), torch.cat(Y_shuffled)\n",
        "\n",
        "    return Y_shuffled.detach().cpu().numpy(), F.softmax(Y_preds, dim=-1).argmax(dim=-1).detach().cpu().numpy()\n",
        "\n",
        "def print_results(Y_actual, Y_preds, target_names):\n",
        "    print(\"Test Accuracy : {}\".format(accuracy_score(Y_actual, Y_preds)))\n",
        "    print(\"\\nClassification Report : \")\n",
        "    print(classification_report(Y_actual, Y_preds, target_names=target_classes))\n",
        "    print(\"\\nConfusion Matrix : \")\n",
        "\n",
        "    from sklearn.metrics import confusion_matrix\n",
        "    import scikitplot as skplt\n",
        "    import matplotlib.pyplot as plt\n",
        "    import numpy as np\n",
        "\n",
        "    skplt.metrics.plot_confusion_matrix([target_classes[i] for i in Y_actual], [target_classes[i] for i in Y_preds],\n",
        "                                        normalize=True,\n",
        "                                        title=\"Confusion Matrix\",\n",
        "                                        cmap=\"Purples\",\n",
        "                                        hide_zeros=True,\n",
        "                                        figsize=(5,5)\n",
        "                                        )\n",
        "    plt.xticks(rotation=90)\n",
        "\n",
        "def save_model(model, name):\n",
        "    path = './net_'+ name +'.pth'\n",
        "    print(path)\n",
        "    torch.save(model.state_dict(), path)"
      ]
    },
    {
      "cell_type": "code",
      "execution_count": 122,
      "id": "9e501d30",
      "metadata": {},
      "outputs": [
        {
          "data": {
            "text/plain": [
              "2040704"
            ]
          },
          "execution_count": 122,
          "metadata": {},
          "output_type": "execute_result"
        }
      ],
      "source": [
        "embed_len = max_words\n",
        "hidden_dim = 50\n",
        "n_layers = 1\n",
        "\n",
        "class RNN_1(nn.Module):\n",
        "    def __init__(self):\n",
        "        super(RNN_1, self).__init__()\n",
        "        self.hidden_dim = hidden_dim\n",
        "        self.n_layers = n_layers\n",
        "\n",
        "        self.embedding_layer = nn.Embedding(num_embeddings=len(vocab), embedding_dim=embed_len)\n",
        "        self.rnn = nn.RNN(input_size=embed_len, hidden_size=hidden_dim, num_layers=n_layers, batch_first=True)\n",
        "        self.linear = nn.Linear(hidden_dim, len(target_classes))\n",
        "        self.dropout = nn.Dropout(0.25)\n",
        "        #self.hidden = torch.nn.parameter.Parameter(torch.zeros(n_layers, batch_size, self.hidden_dim, device=device))\n",
        "\n",
        "    def forward(self, X_batch):\n",
        "        embeddings = self.embedding_layer(X_batch)\n",
        "\n",
        "        output, hidden = self.rnn(embeddings, torch.randn(n_layers, len(X_batch), hidden_dim, device=device))\n",
        "        output = self.linear(output)\n",
        "        return output[:,-1]\n",
        "    \n",
        "get_n_params(RNN_1())"
      ]
    },
    {
      "cell_type": "code",
      "execution_count": 130,
      "id": "3409e831",
      "metadata": {},
      "outputs": [
        {
          "name": "stdout",
          "output_type": "stream",
          "text": [
            "Train Loss : 1.352\n",
            "Test Loss  : 1.240\n",
            "Test Acc   : 0.403\n",
            "\n",
            "Train Loss : 1.208\n",
            "Test Loss  : 1.145\n",
            "Test Acc   : 0.454\n",
            "\n",
            "Train Loss : 1.163\n",
            "Test Loss  : 1.107\n",
            "Test Acc   : 0.460\n",
            "\n",
            "Train Loss : 1.167\n",
            "Test Loss  : 1.076\n",
            "Test Acc   : 0.477\n",
            "\n",
            "Train Loss : 1.065\n",
            "Test Loss  : 1.056\n",
            "Test Acc   : 0.483\n",
            "\n",
            "Train Loss : 1.085\n",
            "Test Loss  : 1.098\n",
            "Test Acc   : 0.474\n",
            "\n",
            "Train Loss : 1.036\n",
            "Test Loss  : 1.039\n",
            "Test Acc   : 0.486\n",
            "\n",
            "Train Loss : 1.115\n",
            "Test Loss  : 1.152\n",
            "Test Acc   : 0.448\n",
            "\n",
            "Train Loss : 1.100\n",
            "Test Loss  : 1.077\n",
            "Test Acc   : 0.473\n",
            "\n",
            "Train Loss : 1.080\n",
            "Test Loss  : 1.322\n",
            "Test Acc   : 0.360\n",
            "\n",
            "Train Loss : 1.144\n",
            "Test Loss  : 1.064\n",
            "Test Acc   : 0.480\n",
            "\n",
            "Train Loss : 1.023\n",
            "Test Loss  : 1.040\n",
            "Test Acc   : 0.494\n",
            "\n",
            "Train Loss : 1.006\n",
            "Test Loss  : 1.039\n",
            "Test Acc   : 0.490\n",
            "\n",
            "Train Loss : 0.994\n",
            "Test Loss  : 1.018\n",
            "Test Acc   : 0.504\n",
            "\n",
            "Train Loss : 0.962\n",
            "Test Loss  : 0.957\n",
            "Test Acc   : 0.566\n",
            "\n",
            "./net_rnn_simple.pth\n"
          ]
        }
      ],
      "source": [
        "from torch.optim import Adam\n",
        "\n",
        "epochs = 15\n",
        "learning_rate = 1e-3\n",
        "\n",
        "loss_fn = nn.CrossEntropyLoss()\n",
        "rnn_classifier = RNN_1().to(device)\n",
        "optimizer = Adam(rnn_classifier.parameters(), lr=learning_rate)\n",
        "\n",
        "train_model(rnn_classifier, loss_fn, optimizer, train_loader, test_loader, epochs, test=True)\n",
        "save_model(rnn_classifier, 'rnn_simple')\n",
        "gc.collect()\n",
        "torch.cuda.empty_cache()"
      ]
    },
    {
      "cell_type": "code",
      "execution_count": 131,
      "id": "486f7098",
      "metadata": {},
      "outputs": [
        {
          "name": "stdout",
          "output_type": "stream",
          "text": [
            "Test Accuracy : 0.5668421052631579\n",
            "\n",
            "Classification Report : \n",
            "              precision    recall  f1-score   support\n",
            "\n",
            "       World       0.47      0.71      0.56      1900\n",
            "      Sports       0.85      0.91      0.88      1900\n",
            "    Business       0.47      0.18      0.26      1900\n",
            "    Sci/Tech       0.46      0.47      0.46      1900\n",
            "\n",
            "    accuracy                           0.57      7600\n",
            "   macro avg       0.56      0.57      0.54      7600\n",
            "weighted avg       0.56      0.57      0.54      7600\n",
            "\n",
            "\n",
            "Confusion Matrix : \n"
          ]
        },
        {
          "data": {
            "image/png": "[encoded data removed]",
            "text/plain": [
              "<Figure size 360x360 with 2 Axes>"
            ]
          },
          "metadata": {
            "needs_background": "light"
          },
          "output_type": "display_data"
        }
      ],
      "source": [
        "Y_actual, Y_preds = make_predictions(rnn_classifier, test_loader)\n",
        "print_results(Y_actual, Y_preds, target_classes)"
      ]
    },
    {
      "cell_type": "code",
      "execution_count": 132,
      "id": "923eeda7",
      "metadata": {},
      "outputs": [
        {
          "data": {
            "text/plain": [
              "2050644"
            ]
          },
          "execution_count": 132,
          "metadata": {},
          "output_type": "execute_result"
        }
      ],
      "source": [
        "embed_len = max_words\n",
        "hidden_dim_1 = 40\n",
        "hidden_dim_2 = 50\n",
        "hidden_dim_3 = 60\n",
        "n_layers = 1\n",
        "\n",
        "class RNN_2(nn.Module):\n",
        "    def __init__(self):\n",
        "        super(RNN_2, self).__init__()\n",
        "        self.hidden_dim = hidden_dim\n",
        "        self.n_layers = n_layers\n",
        "\n",
        "        self.embedding_layer = nn.Embedding(num_embeddings=len(vocab), embedding_dim=embed_len)\n",
        "        self.rnn1 = nn.RNN(input_size=embed_len, hidden_size=hidden_dim_1, num_layers=1, batch_first=True)\n",
        "        self.rnn2 = nn.RNN(input_size=hidden_dim_1, hidden_size=hidden_dim_2, num_layers=1, batch_first=True)\n",
        "        self.rnn3 = nn.RNN(input_size=hidden_dim_2, hidden_size=hidden_dim_3, num_layers=1, batch_first=True)\n",
        "        self.linear = nn.Linear(hidden_dim_3, len(target_classes))\n",
        "        self.dropout = nn.Dropout(0.25)\n",
        "        #self.hidden = torch.nn.parameter.Parameter(torch.zeros(n_layers, batch_size, self.hidden_dim, device=device))\n",
        "\n",
        "    def forward(self, X_batch):\n",
        "        embeddings = self.embedding_layer(X_batch)\n",
        "\n",
        "        output, hidden = self.rnn1(embeddings, torch.randn(n_layers, len(X_batch), hidden_dim_1, device=device))\n",
        "        output, hidden = self.rnn2(output, torch.randn(n_layers, len(X_batch), hidden_dim_2, device=device))\n",
        "        output, hidden = self.rnn3(output, torch.randn(n_layers, len(X_batch), hidden_dim_3, device=device))\n",
        "\n",
        "        output = self.linear(output)\n",
        "        return output[:,-1]\n",
        "    \n",
        "get_n_params(RNN_2())"
      ]
    },
    {
      "cell_type": "code",
      "execution_count": 133,
      "id": "5c10b8ba",
      "metadata": {},
      "outputs": [
        {
          "name": "stdout",
          "output_type": "stream",
          "text": [
            "Train Loss : 1.303\n",
            "Test Loss  : 1.165\n",
            "Test Acc   : 0.439\n",
            "\n",
            "Train Loss : 1.130\n",
            "Test Loss  : 1.070\n",
            "Test Acc   : 0.470\n",
            "\n",
            "Train Loss : 1.055\n",
            "Test Loss  : 1.025\n",
            "Test Acc   : 0.493\n",
            "\n",
            "Train Loss : 1.160\n",
            "Test Loss  : 1.044\n",
            "Test Acc   : 0.458\n",
            "\n",
            "Train Loss : 1.002\n",
            "Test Loss  : 0.990\n",
            "Test Acc   : 0.477\n",
            "\n",
            "Train Loss : 0.972\n",
            "Test Loss  : 0.974\n",
            "Test Acc   : 0.462\n",
            "\n",
            "Train Loss : 0.941\n",
            "Test Loss  : 0.956\n",
            "Test Acc   : 0.487\n",
            "\n",
            "Train Loss : 0.928\n",
            "Test Loss  : 0.941\n",
            "Test Acc   : 0.523\n",
            "\n",
            "Train Loss : 0.932\n",
            "Test Loss  : 0.969\n",
            "Test Acc   : 0.468\n",
            "\n",
            "Train Loss : 0.929\n",
            "Test Loss  : 0.931\n",
            "Test Acc   : 0.498\n",
            "\n",
            "Train Loss : 0.902\n",
            "Test Loss  : 1.016\n",
            "Test Acc   : 0.487\n",
            "\n",
            "Train Loss : 0.938\n",
            "Test Loss  : 0.980\n",
            "Test Acc   : 0.508\n",
            "\n",
            "Train Loss : 0.920\n",
            "Test Loss  : 0.937\n",
            "Test Acc   : 0.516\n",
            "\n",
            "Train Loss : 0.897\n",
            "Test Loss  : 1.002\n",
            "Test Acc   : 0.511\n",
            "\n",
            "Train Loss : 0.934\n",
            "Test Loss  : 0.955\n",
            "Test Acc   : 0.528\n",
            "\n",
            "./net_rnn_layers.pth\n"
          ]
        }
      ],
      "source": [
        "epochs = 15\n",
        "learning_rate = 1e-3\n",
        "\n",
        "loss_fn = nn.CrossEntropyLoss()\n",
        "rnn_classifier_layers = RNN_2().to(device)\n",
        "optimizer = Adam(rnn_classifier_layers.parameters(), lr=learning_rate)\n",
        "\n",
        "train_model(rnn_classifier_layers, loss_fn, optimizer, train_loader, test_loader, epochs, test=True)\n",
        "save_model(rnn_classifier_layers, 'rnn_layers')\n",
        "gc.collect()\n",
        "torch.cuda.empty_cache()"
      ]
    },
    {
      "cell_type": "code",
      "execution_count": 134,
      "id": "9e04e73c",
      "metadata": {},
      "outputs": [
        {
          "name": "stdout",
          "output_type": "stream",
          "text": [
            "Test Accuracy : 0.5657894736842105\n",
            "\n",
            "Classification Report : \n",
            "              precision    recall  f1-score   support\n",
            "\n",
            "       World       0.47      0.71      0.56      1900\n",
            "      Sports       0.85      0.91      0.88      1900\n",
            "    Business       0.46      0.18      0.26      1900\n",
            "    Sci/Tech       0.46      0.47      0.46      1900\n",
            "\n",
            "    accuracy                           0.57      7600\n",
            "   macro avg       0.56      0.57      0.54      7600\n",
            "weighted avg       0.56      0.57      0.54      7600\n",
            "\n",
            "\n",
            "Confusion Matrix : \n"
          ]
        },
        {
          "data": {
            "image/png": "[encoded data removed]",
            "text/plain": [
              "<Figure size 360x360 with 2 Axes>"
            ]
          },
          "metadata": {
            "needs_background": "light"
          },
          "output_type": "display_data"
        }
      ],
      "source": [
        "Y_actual, Y_preds = make_predictions(rnn_classifier, test_loader)\n",
        "print_results(Y_actual, Y_preds, target_classes)"
      ]
    },
    {
      "cell_type": "code",
      "execution_count": 135,
      "id": "71dcedfa",
      "metadata": {},
      "outputs": [],
      "source": [
        "import torchvision.transforms as transforms\n",
        "import torchvision.datasets as datasets\n",
        "from torch.utils.data import DataLoader, Dataset\n",
        "from PIL import Image\n",
        "import matplotlib.pyplot as plt\n",
        "import numpy as np\n",
        "def pre_image(image, model, classes):\n",
        "   with torch.no_grad():\n",
        "      model.eval()  \n",
        "      output = model(image)\n",
        "      index = output.data.cpu().numpy().argmax()\n",
        "      class_name = classes[index]\n",
        "      return class_name"
      ]
    },
    {
      "cell_type": "code",
      "execution_count": 136,
      "id": "c9ad4bdd",
      "metadata": {},
      "outputs": [],
      "source": [
        "#for i, net in enumerate(nets):\n",
        "#    print(f\"Net {i} says it's {pre_image(image, net, db.classes)}\")"
      ]
    }
  ],
  "metadata": {
    "accelerator": "GPU",
    "colab": {
      "provenance": []
    },
    "gpuClass": "standard",
    "kernelspec": {
      "display_name": "base",
      "language": "python",
      "name": "python3"
    },
    "language_info": {
      "codemirror_mode": {
        "name": "ipython",
        "version": 3
      },
      "file_extension": ".py",
      "mimetype": "text/x-python",
      "name": "python",
      "nbconvert_exporter": "python",
      "pygments_lexer": "ipython3",
      "version": "3.9.12"
    },
    "vscode": {
      "interpreter": {
        "hash": "4adb2b3a86768c0ab9c68d017220c97866613aeca6db1d74ccc533002803c558"
      }
    },
    "widgets": {
      "application/vnd.jupyter.widget-state+json": {
        "006b68923f6c4ed6abf97a717eae68ab": {
          "model_module": "@jupyter-widgets/base",
          "model_module_version": "1.2.0",
          "model_name": "LayoutModel",
          "state": {
            "_model_module": "@jupyter-widgets/base",
            "_model_module_version": "1.2.0",
            "_model_name": "LayoutModel",
            "_view_count": null,
            "_view_module": "@jupyter-widgets/base",
            "_view_module_version": "1.2.0",
            "_view_name": "LayoutView",
            "align_content": null,
            "align_items": null,
            "align_self": null,
            "border": null,
            "bottom": null,
            "display": null,
            "flex": null,
            "flex_flow": null,
            "grid_area": null,
            "grid_auto_columns": null,
            "grid_auto_flow": null,
            "grid_auto_rows": null,
            "grid_column": null,
            "grid_gap": null,
            "grid_row": null,
            "grid_template_areas": null,
            "grid_template_columns": null,
            "grid_template_rows": null,
            "height": null,
            "justify_content": null,
            "justify_items": null,
            "left": null,
            "margin": null,
            "max_height": null,
            "max_width": null,
            "min_height": null,
            "min_width": null,
            "object_fit": null,
            "object_position": null,
            "order": null,
            "overflow": null,
            "overflow_x": null,
            "overflow_y": null,
            "padding": null,
            "right": null,
            "top": null,
            "visibility": null,
            "width": null
          }
        },
        "13db09b7d5f24cbc82eb6bb4a7e2b04d": {
          "model_module": "@jupyter-widgets/controls",
          "model_module_version": "1.5.0",
          "model_name": "FloatProgressModel",
          "state": {
            "_dom_classes": [],
            "_model_module": "@jupyter-widgets/controls",
            "_model_module_version": "1.5.0",
            "_model_name": "FloatProgressModel",
            "_view_count": null,
            "_view_module": "@jupyter-widgets/controls",
            "_view_module_version": "1.5.0",
            "_view_name": "ProgressView",
            "bar_style": "success",
            "description": "",
            "description_tooltip": null,
            "layout": "IPY_MODEL_fe780edc9b174e5a8fb91a6272b4ecc1",
            "max": 170498071,
            "min": 0,
            "orientation": "horizontal",
            "style": "IPY_MODEL_5b92f21e071d4887bd491b55dc3c09e4",
            "value": 170498071
          }
        },
        "29acf99c6faf488d9e6b7492ead45986": {
          "model_module": "@jupyter-widgets/base",
          "model_module_version": "1.2.0",
          "model_name": "LayoutModel",
          "state": {
            "_model_module": "@jupyter-widgets/base",
            "_model_module_version": "1.2.0",
            "_model_name": "LayoutModel",
            "_view_count": null,
            "_view_module": "@jupyter-widgets/base",
            "_view_module_version": "1.2.0",
            "_view_name": "LayoutView",
            "align_content": null,
            "align_items": null,
            "align_self": null,
            "border": null,
            "bottom": null,
            "display": null,
            "flex": null,
            "flex_flow": null,
            "grid_area": null,
            "grid_auto_columns": null,
            "grid_auto_flow": null,
            "grid_auto_rows": null,
            "grid_column": null,
            "grid_gap": null,
            "grid_row": null,
            "grid_template_areas": null,
            "grid_template_columns": null,
            "grid_template_rows": null,
            "height": null,
            "justify_content": null,
            "justify_items": null,
            "left": null,
            "margin": null,
            "max_height": null,
            "max_width": null,
            "min_height": null,
            "min_width": null,
            "object_fit": null,
            "object_position": null,
            "order": null,
            "overflow": null,
            "overflow_x": null,
            "overflow_y": null,
            "padding": null,
            "right": null,
            "top": null,
            "visibility": null,
            "width": null
          }
        },
        "2f636d53c03440a6a47b2dafcfd8886f": {
          "model_module": "@jupyter-widgets/controls",
          "model_module_version": "1.5.0",
          "model_name": "DescriptionStyleModel",
          "state": {
            "_model_module": "@jupyter-widgets/controls",
            "_model_module_version": "1.5.0",
            "_model_name": "DescriptionStyleModel",
            "_view_count": null,
            "_view_module": "@jupyter-widgets/base",
            "_view_module_version": "1.2.0",
            "_view_name": "StyleView",
            "description_width": ""
          }
        },
        "5aeea86d346c49a9a070efeb746c15c3": {
          "model_module": "@jupyter-widgets/controls",
          "model_module_version": "1.5.0",
          "model_name": "HBoxModel",
          "state": {
            "_dom_classes": [],
            "_model_module": "@jupyter-widgets/controls",
            "_model_module_version": "1.5.0",
            "_model_name": "HBoxModel",
            "_view_count": null,
            "_view_module": "@jupyter-widgets/controls",
            "_view_module_version": "1.5.0",
            "_view_name": "HBoxView",
            "box_style": "",
            "children": [
              "IPY_MODEL_fcdd0995425442de83aedc6c157396f9",
              "IPY_MODEL_13db09b7d5f24cbc82eb6bb4a7e2b04d",
              "IPY_MODEL_eda4571c6119464896cda99e85841e46"
            ],
            "layout": "IPY_MODEL_cf94e662f9114e6eac24ccc6b671efad"
          }
        },
        "5b92f21e071d4887bd491b55dc3c09e4": {
          "model_module": "@jupyter-widgets/controls",
          "model_module_version": "1.5.0",
          "model_name": "ProgressStyleModel",
          "state": {
            "_model_module": "@jupyter-widgets/controls",
            "_model_module_version": "1.5.0",
            "_model_name": "ProgressStyleModel",
            "_view_count": null,
            "_view_module": "@jupyter-widgets/base",
            "_view_module_version": "1.2.0",
            "_view_name": "StyleView",
            "bar_color": null,
            "description_width": ""
          }
        },
        "c967b526ebda48fb98be888e61843fc9": {
          "model_module": "@jupyter-widgets/controls",
          "model_module_version": "1.5.0",
          "model_name": "DescriptionStyleModel",
          "state": {
            "_model_module": "@jupyter-widgets/controls",
            "_model_module_version": "1.5.0",
            "_model_name": "DescriptionStyleModel",
            "_view_count": null,
            "_view_module": "@jupyter-widgets/base",
            "_view_module_version": "1.2.0",
            "_view_name": "StyleView",
            "description_width": ""
          }
        },
        "cf94e662f9114e6eac24ccc6b671efad": {
          "model_module": "@jupyter-widgets/base",
          "model_module_version": "1.2.0",
          "model_name": "LayoutModel",
          "state": {
            "_model_module": "@jupyter-widgets/base",
            "_model_module_version": "1.2.0",
            "_model_name": "LayoutModel",
            "_view_count": null,
            "_view_module": "@jupyter-widgets/base",
            "_view_module_version": "1.2.0",
            "_view_name": "LayoutView",
            "align_content": null,
            "align_items": null,
            "align_self": null,
            "border": null,
            "bottom": null,
            "display": null,
            "flex": null,
            "flex_flow": null,
            "grid_area": null,
            "grid_auto_columns": null,
            "grid_auto_flow": null,
            "grid_auto_rows": null,
            "grid_column": null,
            "grid_gap": null,
            "grid_row": null,
            "grid_template_areas": null,
            "grid_template_columns": null,
            "grid_template_rows": null,
            "height": null,
            "justify_content": null,
            "justify_items": null,
            "left": null,
            "margin": null,
            "max_height": null,
            "max_width": null,
            "min_height": null,
            "min_width": null,
            "object_fit": null,
            "object_position": null,
            "order": null,
            "overflow": null,
            "overflow_x": null,
            "overflow_y": null,
            "padding": null,
            "right": null,
            "top": null,
            "visibility": null,
            "width": null
          }
        },
        "eda4571c6119464896cda99e85841e46": {
          "model_module": "@jupyter-widgets/controls",
          "model_module_version": "1.5.0",
          "model_name": "HTMLModel",
          "state": {
            "_dom_classes": [],
            "_model_module": "@jupyter-widgets/controls",
            "_model_module_version": "1.5.0",
            "_model_name": "HTMLModel",
            "_view_count": null,
            "_view_module": "@jupyter-widgets/controls",
            "_view_module_version": "1.5.0",
            "_view_name": "HTMLView",
            "description": "",
            "description_tooltip": null,
            "layout": "IPY_MODEL_006b68923f6c4ed6abf97a717eae68ab",
            "placeholder": "​",
            "style": "IPY_MODEL_c967b526ebda48fb98be888e61843fc9",
            "value": " 170498071/170498071 [00:52&lt;00:00, 1959295.28it/s]"
          }
        },
        "fcdd0995425442de83aedc6c157396f9": {
          "model_module": "@jupyter-widgets/controls",
          "model_module_version": "1.5.0",
          "model_name": "HTMLModel",
          "state": {
            "_dom_classes": [],
            "_model_module": "@jupyter-widgets/controls",
            "_model_module_version": "1.5.0",
            "_model_name": "HTMLModel",
            "_view_count": null,
            "_view_module": "@jupyter-widgets/controls",
            "_view_module_version": "1.5.0",
            "_view_name": "HTMLView",
            "description": "",
            "description_tooltip": null,
            "layout": "IPY_MODEL_29acf99c6faf488d9e6b7492ead45986",
            "placeholder": "​",
            "style": "IPY_MODEL_2f636d53c03440a6a47b2dafcfd8886f",
            "value": "100%"
          }
        },
        "fe780edc9b174e5a8fb91a6272b4ecc1": {
          "model_module": "@jupyter-widgets/base",
          "model_module_version": "1.2.0",
          "model_name": "LayoutModel",
          "state": {
            "_model_module": "@jupyter-widgets/base",
            "_model_module_version": "1.2.0",
            "_model_name": "LayoutModel",
            "_view_count": null,
            "_view_module": "@jupyter-widgets/base",
            "_view_module_version": "1.2.0",
            "_view_name": "LayoutView",
            "align_content": null,
            "align_items": null,
            "align_self": null,
            "border": null,
            "bottom": null,
            "display": null,
            "flex": null,
            "flex_flow": null,
            "grid_area": null,
            "grid_auto_columns": null,
            "grid_auto_flow": null,
            "grid_auto_rows": null,
            "grid_column": null,
            "grid_gap": null,
            "grid_row": null,
            "grid_template_areas": null,
            "grid_template_columns": null,
            "grid_template_rows": null,
            "height": null,
            "justify_content": null,
            "justify_items": null,
            "left": null,
            "margin": null,
            "max_height": null,
            "max_width": null,
            "min_height": null,
            "min_width": null,
            "object_fit": null,
            "object_position": null,
            "order": null,
            "overflow": null,
            "overflow_x": null,
            "overflow_y": null,
            "padding": null,
            "right": null,
            "top": null,
            "visibility": null,
            "width": null
          }
        }
      }
    }
  },
  "nbformat": 4,
  "nbformat_minor": 5
}
