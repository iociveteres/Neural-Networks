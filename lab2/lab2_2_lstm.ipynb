{
  "cells": [
    {
      "cell_type": "code",
      "execution_count": 3,
      "id": "0c984529",
      "metadata": {
        "id": "0c984529"
      },
      "outputs": [],
      "source": [
        "import torch\n",
        "import torch.cuda\n",
        "import numpy as np"
      ]
    },
    {
      "cell_type": "code",
      "execution_count": 4,
      "id": "8bdc80eb",
      "metadata": {},
      "outputs": [
        {
          "name": "stdout",
          "output_type": "stream",
          "text": [
            "Using device: cpu\n",
            "\n"
          ]
        }
      ],
      "source": [
        "# setting device on GPU if available, else CPU\n",
        "device =  torch.device('cpu') \n",
        "print('Using device:', device)\n",
        "print()\n",
        "\n",
        "#Additional Info when using cuda\n",
        "if device.type == 'cuda':\n",
        "    print(torch.cuda.get_device_name(0))\n",
        "    print('Memory Usage:')\n",
        "    print('Allocated:', round(torch.cuda.memory_allocated(0)/1024**3,1), 'GB')\n",
        "    print('Cached:   ', round(torch.cuda.memory_reserved(0)/1024**3,1), 'GB')"
      ]
    },
    {
      "cell_type": "code",
      "execution_count": 5,
      "id": "f25c344d",
      "metadata": {},
      "outputs": [],
      "source": [
        "def seed_everything(seed: int):\n",
        "    import random, os\n",
        "    import numpy as np\n",
        "    import torch\n",
        "    \n",
        "    random.seed(seed)\n",
        "    os.environ['PYTHONHASHSEED'] = str(seed)\n",
        "    np.random.seed(seed)\n",
        "    torch.manual_seed(seed)\n",
        "    torch.cuda.manual_seed(seed)\n",
        "    torch.backends.cudnn.deterministic = True\n",
        "    torch.backends.cudnn.benchmark = False\n",
        "\n",
        "import random\n",
        "#seed_everything(random.randint(1, 10000))"
      ]
    },
    {
      "cell_type": "code",
      "execution_count": 6,
      "id": "ce982af3",
      "metadata": {},
      "outputs": [],
      "source": [
        "import torchtext.datasets\n",
        "\n",
        "train_iter, test_iter  = torchtext.datasets.AG_NEWS()"
      ]
    },
    {
      "cell_type": "code",
      "execution_count": 7,
      "id": "3caf73b8",
      "metadata": {},
      "outputs": [
        {
          "data": {
            "text/plain": [
              "40708"
            ]
          },
          "execution_count": 7,
          "metadata": {},
          "output_type": "execute_result"
        }
      ],
      "source": [
        "from torchtext.data import get_tokenizer\n",
        "from torchtext.vocab import build_vocab_from_iterator\n",
        "\n",
        "tokenizer = get_tokenizer(\"basic_english\")\n",
        "\n",
        "def build_vocabulary(datasets):\n",
        "    for dataset in datasets:\n",
        "        for _, text in dataset:\n",
        "            yield tokenizer(text)\n",
        "\n",
        "vocab = build_vocab_from_iterator(build_vocabulary([train_iter]), min_freq=3, specials=[\"<UNK>\"])\n",
        "#vocab = build_vocab_from_iterator(build_vocabulary([train_iter, test_iter]), min_freq=10, specials=[\"<UNK>\"])\n",
        "\n",
        "vocab.set_default_index(vocab[\"<UNK>\"])\n",
        "len(vocab)"
      ]
    },
    {
      "cell_type": "code",
      "execution_count": 8,
      "id": "601b22b0",
      "metadata": {},
      "outputs": [],
      "source": [
        "def save_vocab(vocab):\n",
        "    import pickle\n",
        "    output = open('vocab.pkl', 'wb')\n",
        "    pickle.dump(vocab, output)\n",
        "    output.close()\n",
        "\n",
        "save_vocab(vocab)"
      ]
    },
    {
      "cell_type": "code",
      "execution_count": 9,
      "id": "0615bbaf",
      "metadata": {},
      "outputs": [],
      "source": [
        "from torch.utils.data import DataLoader\n",
        "from torchtext.data.functional import to_map_style_dataset\n",
        "\n",
        "train_dataset, test_dataset  = to_map_style_dataset(train_iter), to_map_style_dataset(test_iter)\n",
        "\n",
        "target_classes = [\"World\", \"Sports\", \"Business\", \"Sci/Tech\"]\n",
        "\n",
        "max_words = 50"
      ]
    },
    {
      "cell_type": "code",
      "execution_count": 10,
      "id": "bb5c694d",
      "metadata": {},
      "outputs": [
        {
          "data": {
            "text/plain": [
              "(3,\n",
              " 'Iraq Halts Oil Exports from Main Southern Pipeline (Reuters) Reuters - Authorities have halted oil export\\\\flows from the main pipeline in southern Iraq after\\\\intelligence showed a rebel militia could strike\\\\infrastructure, an oil official said on Saturday.')"
            ]
          },
          "execution_count": 10,
          "metadata": {},
          "output_type": "execute_result"
        }
      ],
      "source": [
        "train_dataset[3]"
      ]
    },
    {
      "cell_type": "code",
      "execution_count": 11,
      "id": "cd07782f",
      "metadata": {},
      "outputs": [
        {
          "data": {
            "text/plain": [
              "(1,\n",
              " 'A Daily Look at U.S. Iraq Military Deaths (AP) AP - As of Wednesday, Aug. 25, 964 U.S. service members have died since the beginning of military operations in Iraq in March 2003, according to the Defense Department. Of those, 722 died as a result of hostile action and 242 died of non-hostile causes.')"
            ]
          },
          "execution_count": 11,
          "metadata": {},
          "output_type": "execute_result"
        }
      ],
      "source": [
        "train_dataset[10000]"
      ]
    },
    {
      "cell_type": "code",
      "execution_count": 21,
      "id": "a1771549",
      "metadata": {},
      "outputs": [],
      "source": [
        "def vectorize_batch(batch):\n",
        "    Y, X = list(zip(*batch))\n",
        "    X = [vocab(tokenizer(text)) for text in X]\n",
        "    X = [tokens+([0]* (max_words-len(tokens))) if len(tokens)<max_words else tokens[:max_words] for tokens in X] \n",
        "\n",
        "    return torch.tensor(X, dtype=torch.int32).to(device), (torch.tensor(Y) - 1).to(device) \n",
        "\n",
        "batch_size = 512 \n",
        "train_loader = DataLoader(train_dataset, batch_size=batch_size, collate_fn=vectorize_batch, shuffle=True)\n",
        "test_loader  = DataLoader(test_dataset , batch_size=batch_size, collate_fn=vectorize_batch)"
      ]
    },
    {
      "cell_type": "code",
      "execution_count": 22,
      "id": "43cf1b89",
      "metadata": {},
      "outputs": [
        {
          "data": {
            "text/plain": [
              "<torchtext.data.functional.to_map_style_dataset.<locals>._MapStyleDataset at 0x2153bd01c10>"
            ]
          },
          "execution_count": 22,
          "metadata": {},
          "output_type": "execute_result"
        }
      ],
      "source": [
        "train_dataset"
      ]
    },
    {
      "cell_type": "code",
      "execution_count": 23,
      "id": "44653edf",
      "metadata": {},
      "outputs": [],
      "source": [
        "def get_n_params(model):\n",
        "    pp=0\n",
        "    for p in list(model.parameters()):\n",
        "        nn=1\n",
        "        for s in list(p.size()):\n",
        "            nn = nn*s\n",
        "        pp += nn\n",
        "    return pp"
      ]
    },
    {
      "cell_type": "code",
      "execution_count": 24,
      "id": "2bc5eeec",
      "metadata": {},
      "outputs": [],
      "source": [
        "import torch.nn as nn\n",
        "import torch.nn.functional as F\n",
        "from torch import flatten"
      ]
    },
    {
      "cell_type": "code",
      "execution_count": 25,
      "id": "ea61e48b",
      "metadata": {},
      "outputs": [],
      "source": [
        "from tqdm import tqdm\n",
        "from sklearn.metrics import accuracy_score\n",
        "import gc\n",
        "from sklearn.metrics import accuracy_score, classification_report, confusion_matrix\n",
        "\n",
        "def CalcValLossAndAccuracy(model, loss_fn, val_loader):\n",
        "    with torch.no_grad():\n",
        "        Y_shuffled, Y_preds, losses = [],[],[]\n",
        "        for X, Y in val_loader:\n",
        "            preds = model(X)\n",
        "            loss = loss_fn(preds, Y)\n",
        "            losses.append(loss.item())\n",
        "\n",
        "            Y_shuffled.append(Y)\n",
        "            Y_preds.append(preds.argmax(dim=-1))\n",
        "\n",
        "        Y_shuffled = torch.cat(Y_shuffled)\n",
        "        Y_preds = torch.cat(Y_preds)\n",
        "\n",
        "        print(\"Test Loss  : {:.3f}\".format(torch.tensor(losses).mean()))\n",
        "        print(\"Test Acc   : {:.3f}\\n\".format(accuracy_score(Y_shuffled.detach().cpu().numpy(), Y_preds.detach().cpu().numpy())))\n",
        "\n",
        "def train_model(model, loss_fn, optimizer, train_loader, test_loader, epochs=10, test=False):\n",
        "    for i in range(1, epochs + 1):\n",
        "        losses = []\n",
        "        #for X, Y in tqdm(train_loader):\n",
        "        for X, Y in train_loader:\n",
        "            Y_preds = model(X)\n",
        "\n",
        "            loss = loss_fn(Y_preds, Y)\n",
        "            losses.append(loss.item())\n",
        "\n",
        "            optimizer.zero_grad()\n",
        "            loss.backward()\n",
        "            optimizer.step()\n",
        "        print(\"Train Loss : {:.3f}\".format(torch.tensor(losses).mean()))\n",
        "        if test:\n",
        "            CalcValLossAndAccuracy(model, loss_fn, test_loader)\n",
        "\n",
        "def make_predictions(model, loader):\n",
        "    Y_shuffled, Y_preds = [], []\n",
        "    with torch.no_grad():\n",
        "        for X, Y in loader:\n",
        "            preds = model(X)\n",
        "            Y_preds.append(preds)\n",
        "            Y_shuffled.append(Y)\n",
        "        gc.collect()\n",
        "    Y_preds, Y_shuffled = torch.cat(Y_preds), torch.cat(Y_shuffled)\n",
        "\n",
        "    return Y_shuffled.detach().cpu().numpy(), F.softmax(Y_preds, dim=-1).argmax(dim=-1).detach().cpu().numpy()\n",
        "\n",
        "def print_results(Y_actual, Y_preds, target_names):\n",
        "    print(\"Test Accuracy : {}\".format(accuracy_score(Y_actual, Y_preds)))\n",
        "    print(\"\\nClassification Report : \")\n",
        "    print(classification_report(Y_actual, Y_preds, target_names=target_classes))\n",
        "    print(\"\\nConfusion Matrix : \")\n",
        "\n",
        "    from sklearn.metrics import confusion_matrix\n",
        "    import scikitplot as skplt\n",
        "    import matplotlib.pyplot as plt\n",
        "    import numpy as np\n",
        "\n",
        "    skplt.metrics.plot_confusion_matrix([target_classes[i] for i in Y_actual], [target_classes[i] for i in Y_preds],\n",
        "                                        normalize=True,\n",
        "                                        title=\"Confusion Matrix\",\n",
        "                                        cmap=\"Purples\",\n",
        "                                        hide_zeros=True,\n",
        "                                        figsize=(5,5)\n",
        "                                        )\n",
        "    plt.xticks(rotation=90)\n",
        "\n",
        "def save_model(model, name):\n",
        "    path = './net_'+ name +'.pth'\n",
        "    print(path)\n",
        "    torch.save(model.state_dict(), path)"
      ]
    },
    {
      "cell_type": "code",
      "execution_count": 30,
      "id": "10c96332",
      "metadata": {},
      "outputs": [],
      "source": [
        "embed_len = max_words\n",
        "hidden_size = 50\n",
        "\n",
        "class LSTM_1(nn.Module):\n",
        "    def __init__(self):\n",
        "        super(LSTM_1, self).__init__()\n",
        "        \n",
        "        self.hidden_size = hidden_size\n",
        "        self.embedding_layer = nn.Embedding(num_embeddings=len(vocab), embedding_dim=embed_len)\n",
        "        self.lstm = nn.LSTM(max_words, hidden_size, batch_first=True)\n",
        "        self.fc = nn.Linear(hidden_size, len(target_classes))\n",
        "        \n",
        "    def forward(self, X_batch):\n",
        "        embeddings = self.embedding_layer(X_batch)\n",
        "        lstm_out, _ = self.lstm(embeddings)\n",
        "        output = self.fc(lstm_out[:, -1])\n",
        "        return output"
      ]
    },
    {
      "cell_type": "code",
      "execution_count": 46,
      "id": "c844a1a6",
      "metadata": {},
      "outputs": [
        {
          "name": "stdout",
          "output_type": "stream",
          "text": [
            "Train Loss : 1.221\n",
            "Test Loss  : 0.841\n",
            "Test Acc   : 0.660\n",
            "\n",
            "Train Loss : 0.606\n",
            "Test Loss  : 0.496\n",
            "Test Acc   : 0.825\n",
            "\n",
            "Train Loss : 0.404\n",
            "Test Loss  : 0.395\n",
            "Test Acc   : 0.866\n",
            "\n",
            "Train Loss : 0.323\n",
            "Test Loss  : 0.357\n",
            "Test Acc   : 0.878\n",
            "\n",
            "Train Loss : 0.279\n",
            "Test Loss  : 0.326\n",
            "Test Acc   : 0.892\n",
            "\n",
            "Train Loss : 0.246\n",
            "Test Loss  : 0.319\n",
            "Test Acc   : 0.895\n",
            "\n",
            "Train Loss : 0.221\n",
            "Test Loss  : 0.317\n",
            "Test Acc   : 0.899\n",
            "\n",
            "Train Loss : 0.197\n",
            "Test Loss  : 0.312\n",
            "Test Acc   : 0.899\n",
            "\n",
            "Train Loss : 0.181\n",
            "Test Loss  : 0.321\n",
            "Test Acc   : 0.899\n",
            "\n",
            "Train Loss : 0.164\n",
            "Test Loss  : 0.316\n",
            "Test Acc   : 0.901\n",
            "\n",
            "Train Loss : 0.150\n",
            "Test Loss  : 0.332\n",
            "Test Acc   : 0.901\n",
            "\n",
            "Train Loss : 0.136\n",
            "Test Loss  : 0.328\n",
            "Test Acc   : 0.903\n",
            "\n",
            "Train Loss : 0.124\n",
            "Test Loss  : 0.343\n",
            "Test Acc   : 0.902\n",
            "\n",
            "Train Loss : 0.113\n",
            "Test Loss  : 0.347\n",
            "Test Acc   : 0.902\n",
            "\n",
            "Train Loss : 0.103\n",
            "Test Loss  : 0.355\n",
            "Test Acc   : 0.899\n",
            "\n",
            "./net_lstm_simple.pth\n"
          ]
        }
      ],
      "source": [
        "from torch.optim import Adam\n",
        "epochs = 15\n",
        "learning_rate = 1e-3\n",
        "\n",
        "loss_fn = nn.CrossEntropyLoss()\n",
        "LSTM_classifier =LSTM_1().to(device)\n",
        "optimizer = Adam(LSTM_classifier.parameters(), lr=learning_rate)\n",
        "\n",
        "train_model(LSTM_classifier, loss_fn, optimizer, train_loader, test_loader, epochs, test=True)\n",
        "save_model(LSTM_classifier, 'lstm_simple')\n",
        "gc.collect()\n",
        "torch.cuda.empty_cache()"
      ]
    },
    {
      "cell_type": "code",
      "execution_count": 47,
      "id": "365f4f21",
      "metadata": {},
      "outputs": [
        {
          "name": "stdout",
          "output_type": "stream",
          "text": [
            "Test Accuracy : 0.8989473684210526\n",
            "\n",
            "Classification Report : \n",
            "              precision    recall  f1-score   support\n",
            "\n",
            "       World       0.93      0.89      0.91      1900\n",
            "      Sports       0.95      0.96      0.96      1900\n",
            "    Business       0.86      0.86      0.86      1900\n",
            "    Sci/Tech       0.85      0.89      0.87      1900\n",
            "\n",
            "    accuracy                           0.90      7600\n",
            "   macro avg       0.90      0.90      0.90      7600\n",
            "weighted avg       0.90      0.90      0.90      7600\n",
            "\n",
            "\n",
            "Confusion Matrix : \n"
          ]
        },
        {
          "data": {
            "image/png": "[encoded data removed]",
            "text/plain": [
              "<Figure size 360x360 with 2 Axes>"
            ]
          },
          "metadata": {
            "needs_background": "light"
          },
          "output_type": "display_data"
        }
      ],
      "source": [
        "Y_actual, Y_preds = make_predictions(LSTM_classifier, test_loader)\n",
        "print_results(Y_actual, Y_preds, target_classes)"
      ]
    },
    {
      "cell_type": "code",
      "execution_count": 40,
      "id": "692ab4a3",
      "metadata": {},
      "outputs": [],
      "source": [
        "embed_len = max_words\n",
        "hidden_size = 50\n",
        "num_layers = 3\n",
        "\n",
        "class LSTM_2(nn.Module):\n",
        "    def __init__(self):\n",
        "        super(LSTM_2, self).__init__()\n",
        "        \n",
        "        self.hidden_size = hidden_size\n",
        "        self.embedding_layer = nn.Embedding(num_embeddings=len(vocab), embedding_dim=embed_len)\n",
        "        self.lstm_layers = []\n",
        "        self.lstm_layers.append(nn.LSTM(max_words, hidden_size, batch_first=True))\n",
        "        for i in range(num_layers - 1):\n",
        "            self.lstm_layers.append(nn.LSTM(hidden_size, hidden_size, batch_first=True))\n",
        "        \n",
        "        self.fc = nn.Linear(hidden_size, len(target_classes))\n",
        "        \n",
        "    def forward(self, X_batch):\n",
        "        embeddings = self.embedding_layer(X_batch)\n",
        "        lstm_out, _ = self.lstm_layers[0](embeddings)\n",
        "        for i in range(1, num_layers):\n",
        "            # Получение выходных значений и скрытого состояния текущего слоя\n",
        "            lstm_out, _ = self.lstm_layers[i](lstm_out)\n",
        "            # Добавление скрытого состояния в список\n",
        "        \n",
        "        output = self.fc(lstm_out[:, -1])\n",
        "        return output"
      ]
    },
    {
      "cell_type": "code",
      "execution_count": 41,
      "id": "127b4769",
      "metadata": {},
      "outputs": [
        {
          "name": "stdout",
          "output_type": "stream",
          "text": [
            "Train Loss : 1.386\n",
            "Test Loss  : 1.384\n",
            "Test Acc   : 0.293\n",
            "\n",
            "Train Loss : 1.381\n",
            "Test Loss  : 1.377\n",
            "Test Acc   : 0.293\n",
            "\n",
            "Train Loss : 1.373\n",
            "Test Loss  : 1.369\n",
            "Test Acc   : 0.303\n",
            "\n",
            "Train Loss : 1.361\n",
            "Test Loss  : 1.355\n",
            "Test Acc   : 0.342\n",
            "\n",
            "Train Loss : 1.341\n",
            "Test Loss  : 1.331\n",
            "Test Acc   : 0.403\n",
            "\n",
            "Train Loss : 1.306\n",
            "Test Loss  : 1.289\n",
            "Test Acc   : 0.451\n",
            "\n",
            "Train Loss : 1.252\n",
            "Test Loss  : 1.236\n",
            "Test Acc   : 0.521\n",
            "\n",
            "Train Loss : 1.193\n",
            "Test Loss  : 1.182\n",
            "Test Acc   : 0.554\n",
            "\n",
            "Train Loss : 1.135\n",
            "Test Loss  : 1.131\n",
            "Test Acc   : 0.574\n",
            "\n",
            "Train Loss : 1.081\n",
            "Test Loss  : 1.084\n",
            "Test Acc   : 0.593\n",
            "\n",
            "Train Loss : 1.029\n",
            "Test Loss  : 1.038\n",
            "Test Acc   : 0.611\n",
            "\n",
            "Train Loss : 0.979\n",
            "Test Loss  : 0.992\n",
            "Test Acc   : 0.632\n",
            "\n",
            "Train Loss : 0.925\n",
            "Test Loss  : 0.942\n",
            "Test Acc   : 0.666\n",
            "\n",
            "Train Loss : 0.869\n",
            "Test Loss  : 0.893\n",
            "Test Acc   : 0.692\n",
            "\n",
            "Train Loss : 0.817\n",
            "Test Loss  : 0.849\n",
            "Test Acc   : 0.703\n",
            "\n",
            "./net_lstm_simple.pth\n"
          ]
        }
      ],
      "source": [
        "from torch.optim import Adam\n",
        "epochs = 15\n",
        "learning_rate = 1e-3\n",
        "\n",
        "loss_fn = nn.CrossEntropyLoss()\n",
        "LSTM_classifier_layers = LSTM_2().to(device)\n",
        "optimizer = Adam(LSTM_classifier_layers.parameters(), lr=learning_rate)\n",
        "\n",
        "train_model(LSTM_classifier_layers, loss_fn, optimizer, train_loader, test_loader, epochs, test=True)\n",
        "save_model(LSTM_classifier_layers, 'lstm_layers')\n",
        "gc.collect()\n",
        "torch.cuda.empty_cache()"
      ]
    },
    {
      "cell_type": "code",
      "execution_count": 45,
      "id": "7b7188e8",
      "metadata": {},
      "outputs": [
        {
          "name": "stdout",
          "output_type": "stream",
          "text": [
            "Test Accuracy : 0.7027631578947369\n",
            "\n",
            "Classification Report : \n",
            "              precision    recall  f1-score   support\n",
            "\n",
            "       World       0.67      0.75      0.71      1900\n",
            "      Sports       0.83      0.88      0.86      1900\n",
            "    Business       0.69      0.51      0.58      1900\n",
            "    Sci/Tech       0.62      0.67      0.65      1900\n",
            "\n",
            "    accuracy                           0.70      7600\n",
            "   macro avg       0.70      0.70      0.70      7600\n",
            "weighted avg       0.70      0.70      0.70      7600\n",
            "\n",
            "\n",
            "Confusion Matrix : \n"
          ]
        },
        {
          "data": {
            "image/png": "[encoded data removed]",
            "text/plain": [
              "<Figure size 360x360 with 2 Axes>"
            ]
          },
          "metadata": {
            "needs_background": "light"
          },
          "output_type": "display_data"
        }
      ],
      "source": [
        "Y_actual, Y_preds = make_predictions(LSTM_classifier_layers, test_loader)\n",
        "print_results(Y_actual, Y_preds, target_classes)"
      ]
    },
    {
      "cell_type": "code",
      "execution_count": 43,
      "id": "71dcedfa",
      "metadata": {},
      "outputs": [],
      "source": [
        "import torchvision.transforms as transforms\n",
        "import torchvision.datasets as datasets\n",
        "from torch.utils.data import DataLoader, Dataset\n",
        "from PIL import Image\n",
        "import matplotlib.pyplot as plt\n",
        "import numpy as np\n",
        "def pre_image(image, model, classes):\n",
        "   with torch.no_grad():\n",
        "      model.eval()  \n",
        "      output = model(image)\n",
        "      index = output.data.cpu().numpy().argmax()\n",
        "      class_name = classes[index]\n",
        "      return class_name"
      ]
    },
    {
      "cell_type": "code",
      "execution_count": 44,
      "id": "c9ad4bdd",
      "metadata": {},
      "outputs": [],
      "source": [
        "#for i, net in enumerate(nets):\n",
        "#    print(f\"Net {i} says it's {pre_image(image, net, db.classes)}\")"
      ]
    }
  ],
  "metadata": {
    "accelerator": "GPU",
    "colab": {
      "provenance": []
    },
    "gpuClass": "standard",
    "kernelspec": {
      "display_name": "base",
      "language": "python",
      "name": "python3"
    },
    "language_info": {
      "codemirror_mode": {
        "name": "ipython",
        "version": 3
      },
      "file_extension": ".py",
      "mimetype": "text/x-python",
      "name": "python",
      "nbconvert_exporter": "python",
      "pygments_lexer": "ipython3",
      "version": "3.9.12"
    },
    "vscode": {
      "interpreter": {
        "hash": "4adb2b3a86768c0ab9c68d017220c97866613aeca6db1d74ccc533002803c558"
      }
    },
    "widgets": {
      "application/vnd.jupyter.widget-state+json": {
        "006b68923f6c4ed6abf97a717eae68ab": {
          "model_module": "@jupyter-widgets/base",
          "model_module_version": "1.2.0",
          "model_name": "LayoutModel",
          "state": {
            "_model_module": "@jupyter-widgets/base",
            "_model_module_version": "1.2.0",
            "_model_name": "LayoutModel",
            "_view_count": null,
            "_view_module": "@jupyter-widgets/base",
            "_view_module_version": "1.2.0",
            "_view_name": "LayoutView",
            "align_content": null,
            "align_items": null,
            "align_self": null,
            "border": null,
            "bottom": null,
            "display": null,
            "flex": null,
            "flex_flow": null,
            "grid_area": null,
            "grid_auto_columns": null,
            "grid_auto_flow": null,
            "grid_auto_rows": null,
            "grid_column": null,
            "grid_gap": null,
            "grid_row": null,
            "grid_template_areas": null,
            "grid_template_columns": null,
            "grid_template_rows": null,
            "height": null,
            "justify_content": null,
            "justify_items": null,
            "left": null,
            "margin": null,
            "max_height": null,
            "max_width": null,
            "min_height": null,
            "min_width": null,
            "object_fit": null,
            "object_position": null,
            "order": null,
            "overflow": null,
            "overflow_x": null,
            "overflow_y": null,
            "padding": null,
            "right": null,
            "top": null,
            "visibility": null,
            "width": null
          }
        },
        "13db09b7d5f24cbc82eb6bb4a7e2b04d": {
          "model_module": "@jupyter-widgets/controls",
          "model_module_version": "1.5.0",
          "model_name": "FloatProgressModel",
          "state": {
            "_dom_classes": [],
            "_model_module": "@jupyter-widgets/controls",
            "_model_module_version": "1.5.0",
            "_model_name": "FloatProgressModel",
            "_view_count": null,
            "_view_module": "@jupyter-widgets/controls",
            "_view_module_version": "1.5.0",
            "_view_name": "ProgressView",
            "bar_style": "success",
            "description": "",
            "description_tooltip": null,
            "layout": "IPY_MODEL_fe780edc9b174e5a8fb91a6272b4ecc1",
            "max": 170498071,
            "min": 0,
            "orientation": "horizontal",
            "style": "IPY_MODEL_5b92f21e071d4887bd491b55dc3c09e4",
            "value": 170498071
          }
        },
        "29acf99c6faf488d9e6b7492ead45986": {
          "model_module": "@jupyter-widgets/base",
          "model_module_version": "1.2.0",
          "model_name": "LayoutModel",
          "state": {
            "_model_module": "@jupyter-widgets/base",
            "_model_module_version": "1.2.0",
            "_model_name": "LayoutModel",
            "_view_count": null,
            "_view_module": "@jupyter-widgets/base",
            "_view_module_version": "1.2.0",
            "_view_name": "LayoutView",
            "align_content": null,
            "align_items": null,
            "align_self": null,
            "border": null,
            "bottom": null,
            "display": null,
            "flex": null,
            "flex_flow": null,
            "grid_area": null,
            "grid_auto_columns": null,
            "grid_auto_flow": null,
            "grid_auto_rows": null,
            "grid_column": null,
            "grid_gap": null,
            "grid_row": null,
            "grid_template_areas": null,
            "grid_template_columns": null,
            "grid_template_rows": null,
            "height": null,
            "justify_content": null,
            "justify_items": null,
            "left": null,
            "margin": null,
            "max_height": null,
            "max_width": null,
            "min_height": null,
            "min_width": null,
            "object_fit": null,
            "object_position": null,
            "order": null,
            "overflow": null,
            "overflow_x": null,
            "overflow_y": null,
            "padding": null,
            "right": null,
            "top": null,
            "visibility": null,
            "width": null
          }
        },
        "2f636d53c03440a6a47b2dafcfd8886f": {
          "model_module": "@jupyter-widgets/controls",
          "model_module_version": "1.5.0",
          "model_name": "DescriptionStyleModel",
          "state": {
            "_model_module": "@jupyter-widgets/controls",
            "_model_module_version": "1.5.0",
            "_model_name": "DescriptionStyleModel",
            "_view_count": null,
            "_view_module": "@jupyter-widgets/base",
            "_view_module_version": "1.2.0",
            "_view_name": "StyleView",
            "description_width": ""
          }
        },
        "5aeea86d346c49a9a070efeb746c15c3": {
          "model_module": "@jupyter-widgets/controls",
          "model_module_version": "1.5.0",
          "model_name": "HBoxModel",
          "state": {
            "_dom_classes": [],
            "_model_module": "@jupyter-widgets/controls",
            "_model_module_version": "1.5.0",
            "_model_name": "HBoxModel",
            "_view_count": null,
            "_view_module": "@jupyter-widgets/controls",
            "_view_module_version": "1.5.0",
            "_view_name": "HBoxView",
            "box_style": "",
            "children": [
              "IPY_MODEL_fcdd0995425442de83aedc6c157396f9",
              "IPY_MODEL_13db09b7d5f24cbc82eb6bb4a7e2b04d",
              "IPY_MODEL_eda4571c6119464896cda99e85841e46"
            ],
            "layout": "IPY_MODEL_cf94e662f9114e6eac24ccc6b671efad"
          }
        },
        "5b92f21e071d4887bd491b55dc3c09e4": {
          "model_module": "@jupyter-widgets/controls",
          "model_module_version": "1.5.0",
          "model_name": "ProgressStyleModel",
          "state": {
            "_model_module": "@jupyter-widgets/controls",
            "_model_module_version": "1.5.0",
            "_model_name": "ProgressStyleModel",
            "_view_count": null,
            "_view_module": "@jupyter-widgets/base",
            "_view_module_version": "1.2.0",
            "_view_name": "StyleView",
            "bar_color": null,
            "description_width": ""
          }
        },
        "c967b526ebda48fb98be888e61843fc9": {
          "model_module": "@jupyter-widgets/controls",
          "model_module_version": "1.5.0",
          "model_name": "DescriptionStyleModel",
          "state": {
            "_model_module": "@jupyter-widgets/controls",
            "_model_module_version": "1.5.0",
            "_model_name": "DescriptionStyleModel",
            "_view_count": null,
            "_view_module": "@jupyter-widgets/base",
            "_view_module_version": "1.2.0",
            "_view_name": "StyleView",
            "description_width": ""
          }
        },
        "cf94e662f9114e6eac24ccc6b671efad": {
          "model_module": "@jupyter-widgets/base",
          "model_module_version": "1.2.0",
          "model_name": "LayoutModel",
          "state": {
            "_model_module": "@jupyter-widgets/base",
            "_model_module_version": "1.2.0",
            "_model_name": "LayoutModel",
            "_view_count": null,
            "_view_module": "@jupyter-widgets/base",
            "_view_module_version": "1.2.0",
            "_view_name": "LayoutView",
            "align_content": null,
            "align_items": null,
            "align_self": null,
            "border": null,
            "bottom": null,
            "display": null,
            "flex": null,
            "flex_flow": null,
            "grid_area": null,
            "grid_auto_columns": null,
            "grid_auto_flow": null,
            "grid_auto_rows": null,
            "grid_column": null,
            "grid_gap": null,
            "grid_row": null,
            "grid_template_areas": null,
            "grid_template_columns": null,
            "grid_template_rows": null,
            "height": null,
            "justify_content": null,
            "justify_items": null,
            "left": null,
            "margin": null,
            "max_height": null,
            "max_width": null,
            "min_height": null,
            "min_width": null,
            "object_fit": null,
            "object_position": null,
            "order": null,
            "overflow": null,
            "overflow_x": null,
            "overflow_y": null,
            "padding": null,
            "right": null,
            "top": null,
            "visibility": null,
            "width": null
          }
        },
        "eda4571c6119464896cda99e85841e46": {
          "model_module": "@jupyter-widgets/controls",
          "model_module_version": "1.5.0",
          "model_name": "HTMLModel",
          "state": {
            "_dom_classes": [],
            "_model_module": "@jupyter-widgets/controls",
            "_model_module_version": "1.5.0",
            "_model_name": "HTMLModel",
            "_view_count": null,
            "_view_module": "@jupyter-widgets/controls",
            "_view_module_version": "1.5.0",
            "_view_name": "HTMLView",
            "description": "",
            "description_tooltip": null,
            "layout": "IPY_MODEL_006b68923f6c4ed6abf97a717eae68ab",
            "placeholder": "​",
            "style": "IPY_MODEL_c967b526ebda48fb98be888e61843fc9",
            "value": " 170498071/170498071 [00:52&lt;00:00, 1959295.28it/s]"
          }
        },
        "fcdd0995425442de83aedc6c157396f9": {
          "model_module": "@jupyter-widgets/controls",
          "model_module_version": "1.5.0",
          "model_name": "HTMLModel",
          "state": {
            "_dom_classes": [],
            "_model_module": "@jupyter-widgets/controls",
            "_model_module_version": "1.5.0",
            "_model_name": "HTMLModel",
            "_view_count": null,
            "_view_module": "@jupyter-widgets/controls",
            "_view_module_version": "1.5.0",
            "_view_name": "HTMLView",
            "description": "",
            "description_tooltip": null,
            "layout": "IPY_MODEL_29acf99c6faf488d9e6b7492ead45986",
            "placeholder": "​",
            "style": "IPY_MODEL_2f636d53c03440a6a47b2dafcfd8886f",
            "value": "100%"
          }
        },
        "fe780edc9b174e5a8fb91a6272b4ecc1": {
          "model_module": "@jupyter-widgets/base",
          "model_module_version": "1.2.0",
          "model_name": "LayoutModel",
          "state": {
            "_model_module": "@jupyter-widgets/base",
            "_model_module_version": "1.2.0",
            "_model_name": "LayoutModel",
            "_view_count": null,
            "_view_module": "@jupyter-widgets/base",
            "_view_module_version": "1.2.0",
            "_view_name": "LayoutView",
            "align_content": null,
            "align_items": null,
            "align_self": null,
            "border": null,
            "bottom": null,
            "display": null,
            "flex": null,
            "flex_flow": null,
            "grid_area": null,
            "grid_auto_columns": null,
            "grid_auto_flow": null,
            "grid_auto_rows": null,
            "grid_column": null,
            "grid_gap": null,
            "grid_row": null,
            "grid_template_areas": null,
            "grid_template_columns": null,
            "grid_template_rows": null,
            "height": null,
            "justify_content": null,
            "justify_items": null,
            "left": null,
            "margin": null,
            "max_height": null,
            "max_width": null,
            "min_height": null,
            "min_width": null,
            "object_fit": null,
            "object_position": null,
            "order": null,
            "overflow": null,
            "overflow_x": null,
            "overflow_y": null,
            "padding": null,
            "right": null,
            "top": null,
            "visibility": null,
            "width": null
          }
        }
      }
    }
  },
  "nbformat": 4,
  "nbformat_minor": 5
}
